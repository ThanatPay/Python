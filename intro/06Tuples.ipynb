{
 "cells": [
  {
   "cell_type": "markdown",
   "id": "372a0a44",
   "metadata": {},
   "source": [
    "### Tuples"
   ]
  },
  {
   "cell_type": "code",
   "execution_count": 1,
   "id": "a78595d2",
   "metadata": {},
   "outputs": [
    {
     "name": "stdout",
     "output_type": "stream",
     "text": [
      "()\n"
     ]
    }
   ],
   "source": [
    "emptyTuple = ()\n",
    "print(emptyTuple)"
   ]
  },
  {
   "cell_type": "code",
   "execution_count": 2,
   "id": "b822e753",
   "metadata": {},
   "outputs": [
    {
     "name": "stdout",
     "output_type": "stream",
     "text": [
      "()\n"
     ]
    }
   ],
   "source": [
    "emptyTuple = tuple()\n",
    "print(emptyTuple)"
   ]
  },
  {
   "cell_type": "code",
   "execution_count": 3,
   "id": "49dcfa9d",
   "metadata": {},
   "outputs": [
    {
     "name": "stdout",
     "output_type": "stream",
     "text": [
      "(3, 7, 4, 2)\n"
     ]
    }
   ],
   "source": [
    "z = (3,7,4,2)\n",
    "print(z)"
   ]
  },
  {
   "cell_type": "code",
   "execution_count": 4,
   "id": "b90e97e2",
   "metadata": {},
   "outputs": [
    {
     "name": "stdout",
     "output_type": "stream",
     "text": [
      "(3, 7, 4, 2)\n"
     ]
    }
   ],
   "source": [
    "z = 3,7,4,2\n",
    "print(z)"
   ]
  },
  {
   "cell_type": "code",
   "execution_count": 5,
   "id": "72dc14cf",
   "metadata": {},
   "outputs": [
    {
     "name": "stdout",
     "output_type": "stream",
     "text": [
      "('Michael',)\n"
     ]
    }
   ],
   "source": [
    "tup1 = ('Michael',)\n",
    "print(tup1)"
   ]
  },
  {
   "cell_type": "code",
   "execution_count": 6,
   "id": "00140a02",
   "metadata": {},
   "outputs": [
    {
     "name": "stdout",
     "output_type": "stream",
     "text": [
      "('Michael',)\n"
     ]
    }
   ],
   "source": [
    "tup2 = 'Michael',\n",
    "print(tup2)"
   ]
  },
  {
   "cell_type": "code",
   "execution_count": 7,
   "id": "98f1250b",
   "metadata": {},
   "outputs": [
    {
     "name": "stdout",
     "output_type": "stream",
     "text": [
      "Michael\n",
      "<class 'str'>\n"
     ]
    }
   ],
   "source": [
    "notTuple = 'Michael'\n",
    "print(notTuple)\n",
    "print(type(notTuple))"
   ]
  },
  {
   "cell_type": "markdown",
   "id": "5d4cbaa6",
   "metadata": {},
   "source": [
    "###### Accessing Value in Tuples"
   ]
  },
  {
   "cell_type": "code",
   "execution_count": 8,
   "id": "25a61082",
   "metadata": {},
   "outputs": [
    {
     "name": "stdout",
     "output_type": "stream",
     "text": [
      "3\n"
     ]
    }
   ],
   "source": [
    "z = (3, 7, 4, 2)\n",
    "print(z[0])"
   ]
  },
  {
   "cell_type": "code",
   "execution_count": 9,
   "id": "30e5c9ff",
   "metadata": {},
   "outputs": [
    {
     "name": "stdout",
     "output_type": "stream",
     "text": [
      "2\n"
     ]
    }
   ],
   "source": [
    "print(z[-1])"
   ]
  },
  {
   "cell_type": "code",
   "execution_count": 10,
   "id": "a3555734",
   "metadata": {},
   "outputs": [
    {
     "name": "stdout",
     "output_type": "stream",
     "text": [
      "2\n"
     ]
    }
   ],
   "source": [
    "print(z[3])"
   ]
  },
  {
   "cell_type": "code",
   "execution_count": 11,
   "id": "ff14bc0a",
   "metadata": {},
   "outputs": [
    {
     "name": "stdout",
     "output_type": "stream",
     "text": [
      "(3, 7)\n"
     ]
    }
   ],
   "source": [
    "print(z[0:2])"
   ]
  },
  {
   "cell_type": "code",
   "execution_count": 12,
   "id": "3efc43b1",
   "metadata": {},
   "outputs": [
    {
     "name": "stdout",
     "output_type": "stream",
     "text": [
      "(3, 7, 4)\n"
     ]
    }
   ],
   "source": [
    "print(z[:3])"
   ]
  },
  {
   "cell_type": "code",
   "execution_count": 13,
   "id": "60758b97",
   "metadata": {},
   "outputs": [
    {
     "name": "stdout",
     "output_type": "stream",
     "text": [
      "(3, 7, 4)\n"
     ]
    }
   ],
   "source": [
    "print(z[-4:-1])"
   ]
  },
  {
   "cell_type": "markdown",
   "id": "9a6162df",
   "metadata": {},
   "source": [
    "###### Tuples are Immutable"
   ]
  },
  {
   "cell_type": "code",
   "execution_count": 14,
   "id": "1696bdf8",
   "metadata": {},
   "outputs": [
    {
     "ename": "TypeError",
     "evalue": "'tuple' object does not support item assignment",
     "output_type": "error",
     "traceback": [
      "\u001b[0;31m---------------------------------------------------------------------------\u001b[0m",
      "\u001b[0;31mTypeError\u001b[0m                                 Traceback (most recent call last)",
      "Cell \u001b[0;32mIn [14], line 3\u001b[0m\n\u001b[1;32m      1\u001b[0m z \u001b[38;5;241m=\u001b[39m (\u001b[38;5;241m3\u001b[39m, \u001b[38;5;241m7\u001b[39m, \u001b[38;5;241m4\u001b[39m, \u001b[38;5;241m2\u001b[39m)\n\u001b[1;32m      2\u001b[0m \u001b[38;5;66;03m#it is impossible to update individual items in a tuple\u001b[39;00m\n\u001b[0;32m----> 3\u001b[0m \u001b[43mz\u001b[49m\u001b[43m[\u001b[49m\u001b[38;5;241;43m1\u001b[39;49m\u001b[43m]\u001b[49m \u001b[38;5;241m=\u001b[39m \u001b[38;5;241m5\u001b[39m\n",
      "\u001b[0;31mTypeError\u001b[0m: 'tuple' object does not support item assignment"
     ]
    }
   ],
   "source": [
    "z = (3, 7, 4, 2)\n",
    "#it is impossible to update individual items in a tuple\n",
    "z[1] = 5"
   ]
  },
  {
   "cell_type": "code",
   "execution_count": 15,
   "id": "8c643b30",
   "metadata": {},
   "outputs": [
    {
     "name": "stdout",
     "output_type": "stream",
     "text": [
      "('Python', 'SQL', 'R')\n"
     ]
    }
   ],
   "source": [
    "tup1 = ('Python', 'SQL')\n",
    "tup2 = ('R',)\n",
    "# Create new tuple based on existing tuples\n",
    "new_tuple = tup1 + tup2;\n",
    "print(new_tuple)"
   ]
  },
  {
   "cell_type": "markdown",
   "id": "cf1eba09",
   "metadata": {},
   "source": [
    "###### Tuple Methods"
   ]
  },
  {
   "cell_type": "code",
   "execution_count": 16,
   "id": "9feaa116",
   "metadata": {},
   "outputs": [],
   "source": [
    "tup = (3,7,4,3,'b')"
   ]
  },
  {
   "cell_type": "code",
   "execution_count": 17,
   "id": "a3dec8ba",
   "metadata": {},
   "outputs": [
    {
     "name": "stdout",
     "output_type": "stream",
     "text": [
      "0\n"
     ]
    }
   ],
   "source": [
    "print(tup.index(3))"
   ]
  },
  {
   "cell_type": "code",
   "execution_count": 18,
   "id": "b5e93fc4",
   "metadata": {},
   "outputs": [
    {
     "name": "stdout",
     "output_type": "stream",
     "text": [
      "2\n"
     ]
    }
   ],
   "source": [
    "print(tup.count(3))"
   ]
  },
  {
   "cell_type": "code",
   "execution_count": 19,
   "id": "c14d7dc4",
   "metadata": {},
   "outputs": [
    {
     "name": "stdout",
     "output_type": "stream",
     "text": [
      "3\n",
      "7\n",
      "4\n",
      "3\n",
      "b\n"
     ]
    }
   ],
   "source": [
    "for item in tup:\n",
    "    print(item)"
   ]
  },
  {
   "cell_type": "code",
   "execution_count": 20,
   "id": "a49aef86",
   "metadata": {},
   "outputs": [
    {
     "name": "stdout",
     "output_type": "stream",
     "text": [
      "Value of x is 7, the value of y is 10.\n"
     ]
    }
   ],
   "source": [
    "x, y = (7, 10);\n",
    "print(\"Value of x is {}, the value of y is {}.\".format(x, y))"
   ]
  },
  {
   "cell_type": "code",
   "execution_count": 21,
   "id": "f164b5f3",
   "metadata": {},
   "outputs": [
    {
     "name": "stdout",
     "output_type": "stream",
     "text": [
      "0 Alison\n",
      "1 Konate\n",
      "2 Henderson\n",
      "3 Salah\n"
     ]
    }
   ],
   "source": [
    "names = ('Alison', 'Konate', 'Henderson', 'Salah')\n",
    "for index, name in enumerate(names):\n",
    "    print(index,name)"
   ]
  },
  {
   "cell_type": "markdown",
   "id": "290ed876",
   "metadata": {},
   "source": [
    "###### Tuples are faster than lists"
   ]
  },
  {
   "cell_type": "code",
   "execution_count": 22,
   "id": "a262e3c8",
   "metadata": {},
   "outputs": [
    {
     "name": "stdout",
     "output_type": "stream",
     "text": [
      "Tuple time:  0.02270912500000044\n",
      "List time:  0.062294290999998836\n"
     ]
    }
   ],
   "source": [
    "import timeit \n",
    "print('Tuple time: ', \n",
    "      timeit.timeit('x=(1,2,3,4,5,6,7,8,9,10,11,12)', number=1000000))\n",
    "print('List time: ', \n",
    "      timeit.timeit('x=[1,2,3,4,5,6,7,8,9,10,11,12]', number=1000000))"
   ]
  },
  {
   "cell_type": "markdown",
   "id": "33c57f2f",
   "metadata": {},
   "source": [
    "###### Tuples can be dictionaly keys"
   ]
  },
  {
   "cell_type": "code",
   "execution_count": 23,
   "id": "a3ee3ff1",
   "metadata": {},
   "outputs": [
    {
     "name": "stdout",
     "output_type": "stream",
     "text": [
      "{('this', 'is'): 23, ('is', 'a'): 12, ('a', 'sentence'): 2}\n"
     ]
    }
   ],
   "source": [
    "Dict = {('this', 'is'): 23,\n",
    "                    ('is', 'a'): 12,\n",
    "                    ('a', 'sentence'): 2}\n",
    "\n",
    "print(Dict)"
   ]
  },
  {
   "cell_type": "markdown",
   "id": "e3246857",
   "metadata": {},
   "source": [
    "###### Lists can't be dictionaly keys"
   ]
  },
  {
   "cell_type": "code",
   "execution_count": 24,
   "id": "53dadbb3",
   "metadata": {},
   "outputs": [
    {
     "ename": "TypeError",
     "evalue": "unhashable type: 'list'",
     "output_type": "error",
     "traceback": [
      "\u001b[0;31m---------------------------------------------------------------------------\u001b[0m",
      "\u001b[0;31mTypeError\u001b[0m                                 Traceback (most recent call last)",
      "Cell \u001b[0;32mIn [24], line 1\u001b[0m\n\u001b[0;32m----> 1\u001b[0m Dict \u001b[38;5;241m=\u001b[39m {[\u001b[38;5;124m'\u001b[39m\u001b[38;5;124mthis\u001b[39m\u001b[38;5;124m'\u001b[39m, \u001b[38;5;124m'\u001b[39m\u001b[38;5;124mis\u001b[39m\u001b[38;5;124m'\u001b[39m]: \u001b[38;5;241m23\u001b[39m,\n\u001b[1;32m      2\u001b[0m                    [\u001b[38;5;124m'\u001b[39m\u001b[38;5;124mis\u001b[39m\u001b[38;5;124m'\u001b[39m, \u001b[38;5;124m'\u001b[39m\u001b[38;5;124ma\u001b[39m\u001b[38;5;124m'\u001b[39m]: \u001b[38;5;241m12\u001b[39m,\n\u001b[1;32m      3\u001b[0m                    [\u001b[38;5;124m'\u001b[39m\u001b[38;5;124ma\u001b[39m\u001b[38;5;124m'\u001b[39m, \u001b[38;5;124m'\u001b[39m\u001b[38;5;124msentence\u001b[39m\u001b[38;5;124m'\u001b[39m]: \u001b[38;5;241m2\u001b[39m}\n\u001b[1;32m      5\u001b[0m \u001b[38;5;28mprint\u001b[39m(Dict)\n",
      "\u001b[0;31mTypeError\u001b[0m: unhashable type: 'list'"
     ]
    }
   ],
   "source": [
    "Dict = {['this', 'is']: 23,\n",
    "                   ['is', 'a']: 12,\n",
    "                   ['a', 'sentence']: 2}\n",
    "\n",
    "print(Dict)"
   ]
  },
  {
   "cell_type": "markdown",
   "id": "04453f2e",
   "metadata": {},
   "source": [
    "###### Tuples can be values in set"
   ]
  },
  {
   "cell_type": "code",
   "execution_count": 25,
   "id": "2bdd7f07",
   "metadata": {},
   "outputs": [
    {
     "name": "stdout",
     "output_type": "stream",
     "text": [
      "{('this', 'is'), ('is', 'a'), ('a', 'sentence')}\n"
     ]
    }
   ],
   "source": [
    "Set = {('this', 'is'),\n",
    "                   ('is', 'a'),\n",
    "                   ('a', 'sentence')}\n",
    "print(Set)"
   ]
  },
  {
   "cell_type": "markdown",
   "id": "e23663d9",
   "metadata": {},
   "source": [
    "###### Lists can't br value in set"
   ]
  },
  {
   "cell_type": "code",
   "execution_count": 26,
   "id": "c1aed7c6",
   "metadata": {},
   "outputs": [
    {
     "ename": "TypeError",
     "evalue": "unhashable type: 'list'",
     "output_type": "error",
     "traceback": [
      "\u001b[0;31m---------------------------------------------------------------------------\u001b[0m",
      "\u001b[0;31mTypeError\u001b[0m                                 Traceback (most recent call last)",
      "Cell \u001b[0;32mIn [26], line 1\u001b[0m\n\u001b[0;32m----> 1\u001b[0m Set \u001b[38;5;241m=\u001b[39m {[\u001b[38;5;124m'\u001b[39m\u001b[38;5;124mthis\u001b[39m\u001b[38;5;124m'\u001b[39m, \u001b[38;5;124m'\u001b[39m\u001b[38;5;124mis\u001b[39m\u001b[38;5;124m'\u001b[39m],\n\u001b[1;32m      2\u001b[0m                    [\u001b[38;5;124m'\u001b[39m\u001b[38;5;124mis\u001b[39m\u001b[38;5;124m'\u001b[39m, \u001b[38;5;124m'\u001b[39m\u001b[38;5;124ma\u001b[39m\u001b[38;5;124m'\u001b[39m],\n\u001b[1;32m      3\u001b[0m                    [\u001b[38;5;124m'\u001b[39m\u001b[38;5;124ma\u001b[39m\u001b[38;5;124m'\u001b[39m, \u001b[38;5;124m'\u001b[39m\u001b[38;5;124msentence\u001b[39m\u001b[38;5;124m'\u001b[39m]}\n\u001b[1;32m      4\u001b[0m \u001b[38;5;28mprint\u001b[39m(Set)\n",
      "\u001b[0;31mTypeError\u001b[0m: unhashable type: 'list'"
     ]
    }
   ],
   "source": [
    "Set = {['this', 'is'],\n",
    "                   ['is', 'a'],\n",
    "                   ['a', 'sentence']}\n",
    "print(Set)"
   ]
  },
  {
   "cell_type": "code",
   "execution_count": null,
   "id": "c8505047",
   "metadata": {},
   "outputs": [],
   "source": []
  }
 ],
 "metadata": {
  "kernelspec": {
   "display_name": "Python 3.9 (tensorflow)",
   "language": "python",
   "name": "tensorflow"
  },
  "language_info": {
   "codemirror_mode": {
    "name": "ipython",
    "version": 3
   },
   "file_extension": ".py",
   "mimetype": "text/x-python",
   "name": "python",
   "nbconvert_exporter": "python",
   "pygments_lexer": "ipython3",
   "version": "3.9.13"
  }
 },
 "nbformat": 4,
 "nbformat_minor": 5
}
