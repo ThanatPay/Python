{
 "cells": [
  {
   "cell_type": "markdown",
   "id": "284ac1f7",
   "metadata": {},
   "source": [
    "### if statements"
   ]
  },
  {
   "cell_type": "code",
   "execution_count": 1,
   "id": "b3e942a0",
   "metadata": {},
   "outputs": [],
   "source": [
    "num = 10"
   ]
  },
  {
   "cell_type": "code",
   "execution_count": 2,
   "id": "551dbae1",
   "metadata": {},
   "outputs": [
    {
     "name": "stdout",
     "output_type": "stream",
     "text": [
      "10\n"
     ]
    }
   ],
   "source": [
    "if num == 10:\n",
    "    print(num)"
   ]
  },
  {
   "cell_type": "code",
   "execution_count": 3,
   "id": "06a363c3",
   "metadata": {},
   "outputs": [],
   "source": [
    "if num > 10:\n",
    "    print(num)"
   ]
  },
  {
   "cell_type": "code",
   "execution_count": 4,
   "id": "b0fc036a",
   "metadata": {},
   "outputs": [
    {
     "name": "stdout",
     "output_type": "stream",
     "text": [
      "Yes\n"
     ]
    }
   ],
   "source": [
    "if num % 5 == 0:\n",
    "    print('Yes')"
   ]
  },
  {
   "cell_type": "code",
   "execution_count": 5,
   "id": "5f4147d1",
   "metadata": {},
   "outputs": [
    {
     "name": "stdout",
     "output_type": "stream",
     "text": [
      "It is True\n"
     ]
    }
   ],
   "source": [
    "if True:\n",
    "    print('It is True')"
   ]
  },
  {
   "cell_type": "code",
   "execution_count": 6,
   "id": "c22dda17",
   "metadata": {},
   "outputs": [],
   "source": [
    "if False:\n",
    "    print('Nothing print')"
   ]
  },
  {
   "cell_type": "code",
   "execution_count": 7,
   "id": "6dc867a3",
   "metadata": {},
   "outputs": [
    {
     "data": {
      "text/plain": [
       "True"
      ]
     },
     "execution_count": 7,
     "metadata": {},
     "output_type": "execute_result"
    }
   ],
   "source": [
    "num > 0 and num < 15"
   ]
  },
  {
   "cell_type": "code",
   "execution_count": 8,
   "id": "29982e6a",
   "metadata": {},
   "outputs": [
    {
     "name": "stdout",
     "output_type": "stream",
     "text": [
      "10\n"
     ]
    }
   ],
   "source": [
    "if num > 0 and num < 15:\n",
    "    print(num)"
   ]
  },
  {
   "cell_type": "code",
   "execution_count": 9,
   "id": "ae9b69bc",
   "metadata": {},
   "outputs": [
    {
     "data": {
      "text/plain": [
       "True"
      ]
     },
     "execution_count": 9,
     "metadata": {},
     "output_type": "execute_result"
    }
   ],
   "source": [
    "num > 0 or num > 25"
   ]
  },
  {
   "cell_type": "code",
   "execution_count": 10,
   "id": "1adf9614",
   "metadata": {},
   "outputs": [
    {
     "name": "stdout",
     "output_type": "stream",
     "text": [
      "10\n"
     ]
    }
   ],
   "source": [
    "if num > 0 or num > 25:\n",
    "    print(num)"
   ]
  },
  {
   "cell_type": "code",
   "execution_count": 11,
   "id": "5f9c2de5",
   "metadata": {},
   "outputs": [],
   "source": [
    "if False or False:\n",
    "    print('Nothing print')"
   ]
  },
  {
   "cell_type": "code",
   "execution_count": 12,
   "id": "80cdea79",
   "metadata": {},
   "outputs": [
    {
     "data": {
      "text/plain": [
       "False"
      ]
     },
     "execution_count": 12,
     "metadata": {},
     "output_type": "execute_result"
    }
   ],
   "source": [
    "not num < 25"
   ]
  },
  {
   "cell_type": "code",
   "execution_count": 13,
   "id": "b52fc0e9",
   "metadata": {},
   "outputs": [],
   "source": [
    "if not num < 25:\n",
    "    print(num)"
   ]
  },
  {
   "cell_type": "code",
   "execution_count": 14,
   "id": "cbbf98f4",
   "metadata": {},
   "outputs": [
    {
     "name": "stdout",
     "output_type": "stream",
     "text": [
      "10\n"
     ]
    }
   ],
   "source": [
    "if not num > 25:\n",
    "    print(num)"
   ]
  },
  {
   "cell_type": "code",
   "execution_count": 15,
   "id": "2f3a0f8c",
   "metadata": {},
   "outputs": [
    {
     "name": "stdout",
     "output_type": "stream",
     "text": [
      "10\n"
     ]
    }
   ],
   "source": [
    "if 1:\n",
    "    print(num)"
   ]
  },
  {
   "cell_type": "code",
   "execution_count": 16,
   "id": "14e22d4e",
   "metadata": {},
   "outputs": [],
   "source": [
    "if 0:\n",
    "    print('Nothing print')"
   ]
  },
  {
   "cell_type": "markdown",
   "id": "59b4e93b",
   "metadata": {},
   "source": [
    "### else statements"
   ]
  },
  {
   "cell_type": "code",
   "execution_count": 17,
   "id": "6ecf118b",
   "metadata": {},
   "outputs": [],
   "source": [
    "num = 1\n",
    "if num > 3:\n",
    "    print('number is greater than 3')"
   ]
  },
  {
   "cell_type": "code",
   "execution_count": 18,
   "id": "be51cee7",
   "metadata": {},
   "outputs": [
    {
     "name": "stdout",
     "output_type": "stream",
     "text": [
      "number is less than 3\n"
     ]
    }
   ],
   "source": [
    "if num > 3:\n",
    "    print('number is greater than 3')\n",
    "else:\n",
    "    print('number is less than 3')"
   ]
  },
  {
   "cell_type": "code",
   "execution_count": 19,
   "id": "45b418a6",
   "metadata": {},
   "outputs": [
    {
     "name": "stdout",
     "output_type": "stream",
     "text": [
      "number is greater than 3\n"
     ]
    }
   ],
   "source": [
    "num = 4\n",
    "if num > 3:\n",
    "    print('number is greater than 3')\n",
    "else:\n",
    "    print('number is less than 3')"
   ]
  },
  {
   "cell_type": "markdown",
   "id": "0d001ba2",
   "metadata": {},
   "source": [
    "### elif statements"
   ]
  },
  {
   "cell_type": "code",
   "execution_count": 20,
   "id": "31ff32cf",
   "metadata": {},
   "outputs": [
    {
     "name": "stdout",
     "output_type": "stream",
     "text": [
      "number is between 3 and 5\n"
     ]
    }
   ],
   "source": [
    "num = 4\n",
    "if num > 5:\n",
    "    print('number is greater than 5')\n",
    "elif num > 3 and num < 5:\n",
    "    print('number is between 3 and 5')\n",
    "else:\n",
    "    print('number is less than 3')"
   ]
  },
  {
   "cell_type": "code",
   "execution_count": null,
   "id": "c0500730",
   "metadata": {},
   "outputs": [],
   "source": [
    "my_num = 5\n",
    "if my_num % 2 == 0:\n",
    "    print(\"Your number is even\")\n",
    "elif my_num % 2 != 0:\n",
    "    print(\"Your number is odd\")\n",
    "else: \n",
    "    print(\"Are you sure your number is an integer?\")"
   ]
  }
 ],
 "metadata": {
  "kernelspec": {
   "display_name": "Python 3.9 (tensorflow)",
   "language": "python",
   "name": "tensorflow"
  },
  "language_info": {
   "codemirror_mode": {
    "name": "ipython",
    "version": 3
   },
   "file_extension": ".py",
   "mimetype": "text/x-python",
   "name": "python",
   "nbconvert_exporter": "python",
   "pygments_lexer": "ipython3",
   "version": "3.9.13"
  }
 },
 "nbformat": 4,
 "nbformat_minor": 5
}
