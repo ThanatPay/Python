{
 "cells": [
  {
   "cell_type": "markdown",
   "id": "c1765f7c",
   "metadata": {},
   "source": [
    "### Lists"
   ]
  },
  {
   "cell_type": "code",
   "execution_count": 1,
   "id": "b8cfd6cc",
   "metadata": {},
   "outputs": [],
   "source": [
    "z = [1,2,3,4]"
   ]
  },
  {
   "cell_type": "markdown",
   "id": "e0c59e2c",
   "metadata": {},
   "source": [
    "###### Accessing values in list"
   ]
  },
  {
   "cell_type": "code",
   "execution_count": 2,
   "id": "2f65b96a",
   "metadata": {},
   "outputs": [
    {
     "data": {
      "text/plain": [
       "1"
      ]
     },
     "execution_count": 2,
     "metadata": {},
     "output_type": "execute_result"
    }
   ],
   "source": [
    "z[0]"
   ]
  },
  {
   "cell_type": "code",
   "execution_count": 3,
   "id": "fbf5aa11",
   "metadata": {},
   "outputs": [
    {
     "data": {
      "text/plain": [
       "3"
      ]
     },
     "execution_count": 3,
     "metadata": {},
     "output_type": "execute_result"
    }
   ],
   "source": [
    "z[2]"
   ]
  },
  {
   "cell_type": "code",
   "execution_count": 4,
   "id": "158c8854",
   "metadata": {},
   "outputs": [
    {
     "data": {
      "text/plain": [
       "4"
      ]
     },
     "execution_count": 4,
     "metadata": {},
     "output_type": "execute_result"
    }
   ],
   "source": [
    "z[-1]"
   ]
  },
  {
   "cell_type": "code",
   "execution_count": 5,
   "id": "803f1507",
   "metadata": {},
   "outputs": [
    {
     "data": {
      "text/plain": [
       "[1, 2]"
      ]
     },
     "execution_count": 5,
     "metadata": {},
     "output_type": "execute_result"
    }
   ],
   "source": [
    "z[0:2]"
   ]
  },
  {
   "cell_type": "code",
   "execution_count": 6,
   "id": "fdecc5ea",
   "metadata": {},
   "outputs": [
    {
     "data": {
      "text/plain": [
       "[1, 2, 3]"
      ]
     },
     "execution_count": 6,
     "metadata": {},
     "output_type": "execute_result"
    }
   ],
   "source": [
    "z[:3]"
   ]
  },
  {
   "cell_type": "code",
   "execution_count": 7,
   "id": "9f381011",
   "metadata": {},
   "outputs": [
    {
     "data": {
      "text/plain": [
       "[3, 4]"
      ]
     },
     "execution_count": 7,
     "metadata": {},
     "output_type": "execute_result"
    }
   ],
   "source": [
    "z[2:]"
   ]
  },
  {
   "cell_type": "markdown",
   "id": "aff440a6",
   "metadata": {},
   "source": [
    "###### Minimum,Maximun,Lenght,Sum list"
   ]
  },
  {
   "cell_type": "code",
   "execution_count": 8,
   "id": "eba4aa92",
   "metadata": {},
   "outputs": [
    {
     "name": "stdout",
     "output_type": "stream",
     "text": [
      "1 4 4 10\n"
     ]
    }
   ],
   "source": [
    "print(min(z),max(z),len(z),sum(z))"
   ]
  },
  {
   "cell_type": "markdown",
   "id": "bae070b4",
   "metadata": {},
   "source": [
    "###### count number of Value in list "
   ]
  },
  {
   "cell_type": "code",
   "execution_count": 9,
   "id": "e5a2e0c6",
   "metadata": {},
   "outputs": [
    {
     "data": {
      "text/plain": [
       "4"
      ]
     },
     "execution_count": 9,
     "metadata": {},
     "output_type": "execute_result"
    }
   ],
   "source": [
    "z = [1,2,3,4,5,1,2,1,3,1,5]\n",
    "z.count(1)"
   ]
  },
  {
   "cell_type": "markdown",
   "id": "abd6855f",
   "metadata": {},
   "source": [
    "###### return First index of Value "
   ]
  },
  {
   "cell_type": "code",
   "execution_count": 10,
   "id": "7d257a15",
   "metadata": {},
   "outputs": [
    {
     "data": {
      "text/plain": [
       "0"
      ]
     },
     "execution_count": 10,
     "metadata": {},
     "output_type": "execute_result"
    }
   ],
   "source": [
    "z.index(1)"
   ]
  },
  {
   "cell_type": "code",
   "execution_count": 11,
   "id": "9e7c36fe",
   "metadata": {},
   "outputs": [
    {
     "data": {
      "text/plain": [
       "5"
      ]
     },
     "execution_count": 11,
     "metadata": {},
     "output_type": "execute_result"
    }
   ],
   "source": [
    "# you can specify where you start your search\n",
    "z.index(1,3)"
   ]
  },
  {
   "cell_type": "code",
   "execution_count": 12,
   "id": "676434e6",
   "metadata": {},
   "outputs": [
    {
     "data": {
      "text/plain": [
       "7"
      ]
     },
     "execution_count": 12,
     "metadata": {},
     "output_type": "execute_result"
    }
   ],
   "source": [
    "# random_list.index(value, [start, stop])\n",
    "z.index(1, 7, 8)"
   ]
  },
  {
   "cell_type": "markdown",
   "id": "3537f174",
   "metadata": {},
   "source": [
    "###### sort a list "
   ]
  },
  {
   "cell_type": "code",
   "execution_count": 13,
   "id": "f017e1e2",
   "metadata": {},
   "outputs": [],
   "source": [
    "x = [5,2,7,3,1,11,10,3]\n",
    "y = ['b', 'y', 's', 'e', 'u', 'a', 'i']"
   ]
  },
  {
   "cell_type": "code",
   "execution_count": 14,
   "id": "f80e538d",
   "metadata": {},
   "outputs": [
    {
     "name": "stdout",
     "output_type": "stream",
     "text": [
      "[1, 2, 3, 3, 5, 7, 10, 11]\n"
     ]
    }
   ],
   "source": [
    "x.sort()\n",
    "print(x)"
   ]
  },
  {
   "cell_type": "code",
   "execution_count": 15,
   "id": "55c65218",
   "metadata": {},
   "outputs": [
    {
     "name": "stdout",
     "output_type": "stream",
     "text": [
      "[11, 10, 7, 5, 3, 3, 2, 1]\n"
     ]
    }
   ],
   "source": [
    "x.sort(reverse = True)\n",
    "print(x)"
   ]
  },
  {
   "cell_type": "code",
   "execution_count": 16,
   "id": "a058aa95",
   "metadata": {},
   "outputs": [
    {
     "name": "stdout",
     "output_type": "stream",
     "text": [
      "['a', 'b', 'e', 'i', 's', 'u', 'y']\n"
     ]
    }
   ],
   "source": [
    "y.sort()\n",
    "print(y)"
   ]
  },
  {
   "cell_type": "code",
   "execution_count": 17,
   "id": "51f374ef",
   "metadata": {},
   "outputs": [
    {
     "name": "stdout",
     "output_type": "stream",
     "text": [
      "['y', 'u', 's', 'i', 'e', 'b', 'a']\n"
     ]
    }
   ],
   "source": [
    "y.sort(reverse = True)\n",
    "print(y)"
   ]
  },
  {
   "cell_type": "code",
   "execution_count": 18,
   "id": "1d2fec8a",
   "metadata": {},
   "outputs": [
    {
     "data": {
      "text/plain": [
       "['a', 'b', 'e', 'i', 's', 'u', 'y']"
      ]
     },
     "execution_count": 18,
     "metadata": {},
     "output_type": "execute_result"
    }
   ],
   "source": [
    "z = sorted(y)\n",
    "z"
   ]
  },
  {
   "cell_type": "code",
   "execution_count": 19,
   "id": "3c88b736",
   "metadata": {},
   "outputs": [
    {
     "data": {
      "text/plain": [
       "['y', 'u', 's', 'i', 'e', 'b', 'a']"
      ]
     },
     "execution_count": 19,
     "metadata": {},
     "output_type": "execute_result"
    }
   ],
   "source": [
    "y"
   ]
  },
  {
   "cell_type": "markdown",
   "id": "9785d2e0",
   "metadata": {},
   "source": [
    "###### remove Frist Value in list "
   ]
  },
  {
   "cell_type": "code",
   "execution_count": 20,
   "id": "d7857639",
   "metadata": {},
   "outputs": [
    {
     "name": "stdout",
     "output_type": "stream",
     "text": [
      "[11, 7, 5, 3, 3, 2, 1]\n"
     ]
    }
   ],
   "source": [
    "x.remove(10)\n",
    "print(x)"
   ]
  },
  {
   "cell_type": "code",
   "execution_count": 21,
   "id": "432bc30a",
   "metadata": {},
   "outputs": [
    {
     "data": {
      "text/plain": [
       "3"
      ]
     },
     "execution_count": 21,
     "metadata": {},
     "output_type": "execute_result"
    }
   ],
   "source": [
    "x.pop(3)"
   ]
  },
  {
   "cell_type": "code",
   "execution_count": 22,
   "id": "1f134f6c",
   "metadata": {},
   "outputs": [
    {
     "name": "stdout",
     "output_type": "stream",
     "text": [
      "[11, 7, 5, 3, 2, 1]\n"
     ]
    }
   ],
   "source": [
    "print(x)"
   ]
  },
  {
   "cell_type": "markdown",
   "id": "76b46a0a",
   "metadata": {},
   "source": [
    "###### Append (add an item to the end of the list) "
   ]
  },
  {
   "cell_type": "code",
   "execution_count": 23,
   "id": "7d3b7435",
   "metadata": {},
   "outputs": [
    {
     "name": "stdout",
     "output_type": "stream",
     "text": [
      "[11, 7, 5, 3, 2, 1, 4]\n"
     ]
    }
   ],
   "source": [
    "x.append(4)\n",
    "print(x)"
   ]
  },
  {
   "cell_type": "code",
   "execution_count": 24,
   "id": "4e7f8b07",
   "metadata": {},
   "outputs": [
    {
     "name": "stdout",
     "output_type": "stream",
     "text": [
      "[11, 7, 5, 3, 2, 1, 4, [4, 5]]\n"
     ]
    }
   ],
   "source": [
    "x.append([4,5])\n",
    "print(x)"
   ]
  },
  {
   "cell_type": "markdown",
   "id": "e5ee2c2e",
   "metadata": {},
   "source": [
    "###### Extend (concarenating lists) "
   ]
  },
  {
   "cell_type": "code",
   "execution_count": 25,
   "id": "54afb8c5",
   "metadata": {},
   "outputs": [
    {
     "name": "stdout",
     "output_type": "stream",
     "text": [
      "['y', 'u', 's', 'i', 'e', 'b', 'a', 'a', 'b']\n"
     ]
    }
   ],
   "source": [
    "y.extend(['a','b'])\n",
    "print(y)"
   ]
  },
  {
   "cell_type": "code",
   "execution_count": 26,
   "id": "b39d2420",
   "metadata": {},
   "outputs": [
    {
     "name": "stdout",
     "output_type": "stream",
     "text": [
      "[11, 7, 5, 3, 2, 1, 4, [4, 5], 'y', 'u', 's', 'i', 'e', 'b', 'a', 'a', 'b']\n"
     ]
    }
   ],
   "source": [
    "print(x+y)"
   ]
  },
  {
   "cell_type": "markdown",
   "id": "7bd97be6",
   "metadata": {},
   "source": [
    "###### Insert item before the index provide"
   ]
  },
  {
   "cell_type": "code",
   "execution_count": 27,
   "id": "44f2d946",
   "metadata": {},
   "outputs": [],
   "source": [
    "x.insert(4,[4,5])"
   ]
  },
  {
   "cell_type": "code",
   "execution_count": 28,
   "id": "cb5adaa7",
   "metadata": {},
   "outputs": [
    {
     "data": {
      "text/plain": [
       "[11, 7, 5, 3, [4, 5], 2, 1, 4, [4, 5]]"
      ]
     },
     "execution_count": 28,
     "metadata": {},
     "output_type": "execute_result"
    }
   ],
   "source": [
    "x"
   ]
  },
  {
   "cell_type": "code",
   "execution_count": null,
   "id": "874d3430",
   "metadata": {},
   "outputs": [],
   "source": []
  }
 ],
 "metadata": {
  "kernelspec": {
   "display_name": "Python 3.9 (tensorflow)",
   "language": "python",
   "name": "tensorflow"
  },
  "language_info": {
   "codemirror_mode": {
    "name": "ipython",
    "version": 3
   },
   "file_extension": ".py",
   "mimetype": "text/x-python",
   "name": "python",
   "nbconvert_exporter": "python",
   "pygments_lexer": "ipython3",
   "version": "3.9.13"
  }
 },
 "nbformat": 4,
 "nbformat_minor": 5
}
