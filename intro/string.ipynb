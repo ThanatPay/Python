{
 "cells": [
  {
   "cell_type": "markdown",
   "id": "4b76a08e",
   "metadata": {},
   "source": [
    "### Hello World!"
   ]
  },
  {
   "cell_type": "code",
   "execution_count": 1,
   "id": "e73535ef",
   "metadata": {},
   "outputs": [
    {
     "name": "stdout",
     "output_type": "stream",
     "text": [
      "Hello World!\n"
     ]
    }
   ],
   "source": [
    "print('Hello World!')"
   ]
  },
  {
   "cell_type": "code",
   "execution_count": 2,
   "id": "497d3785",
   "metadata": {},
   "outputs": [
    {
     "name": "stdout",
     "output_type": "stream",
     "text": [
      "The \n",
      " make a new line\n"
     ]
    }
   ],
   "source": [
    "print('The \\n make a new line')"
   ]
  },
  {
   "cell_type": "code",
   "execution_count": 3,
   "id": "97ab1e7b",
   "metadata": {},
   "outputs": [
    {
     "name": "stdout",
     "output_type": "stream",
     "text": [
      "The \t make a tap\n"
     ]
    }
   ],
   "source": [
    "print('The \\t make a tap')"
   ]
  },
  {
   "cell_type": "code",
   "execution_count": 4,
   "id": "d57012e0",
   "metadata": {},
   "outputs": [
    {
     "name": "stdout",
     "output_type": "stream",
     "text": [
      "I'm going to somewhere\n"
     ]
    }
   ],
   "source": [
    "print('I\\'m going to somewhere' )"
   ]
  },
  {
   "cell_type": "code",
   "execution_count": 5,
   "id": "a7b3798c",
   "metadata": {},
   "outputs": [
    {
     "name": "stdout",
     "output_type": "stream",
     "text": [
      "String is enclosed by \"\" not ''\n"
     ]
    }
   ],
   "source": [
    "print(\"String is enclosed by \\\"\\\" not ''\")"
   ]
  },
  {
   "cell_type": "markdown",
   "id": "709cfa75",
   "metadata": {},
   "source": [
    "### String Manipulations"
   ]
  },
  {
   "cell_type": "code",
   "execution_count": 6,
   "id": "d09979a4",
   "metadata": {},
   "outputs": [
    {
     "name": "stdout",
     "output_type": "stream",
     "text": [
      "Hello World!\n"
     ]
    }
   ],
   "source": [
    "string = 'Hello World!'\n",
    "print(string)"
   ]
  },
  {
   "cell_type": "code",
   "execution_count": 7,
   "id": "decb28a3",
   "metadata": {},
   "outputs": [
    {
     "name": "stdout",
     "output_type": "stream",
     "text": [
      "hello world!\n",
      "HELLO WORLD!\n",
      "Hello World!\n"
     ]
    }
   ],
   "source": [
    "print(string.lower())\n",
    "print(string.upper())\n",
    "print(string.title())"
   ]
  },
  {
   "cell_type": "code",
   "execution_count": 8,
   "id": "9896f156",
   "metadata": {},
   "outputs": [],
   "source": [
    "#To look up what each method does\n",
    "string.lower?"
   ]
  },
  {
   "cell_type": "code",
   "execution_count": 9,
   "id": "8ac16e3b",
   "metadata": {},
   "outputs": [
    {
     "data": {
      "text/plain": [
       "['Hello', 'World!']"
      ]
     },
     "execution_count": 9,
     "metadata": {},
     "output_type": "execute_result"
    }
   ],
   "source": [
    "string.split(\" \")"
   ]
  },
  {
   "cell_type": "code",
   "execution_count": 10,
   "id": "5c67a26c",
   "metadata": {},
   "outputs": [
    {
     "data": {
      "text/plain": [
       "'Hello World!'"
      ]
     },
     "execution_count": 10,
     "metadata": {},
     "output_type": "execute_result"
    }
   ],
   "source": [
    "a = string.split(' ')\n",
    "\" \".join(a)"
   ]
  },
  {
   "cell_type": "code",
   "execution_count": 11,
   "id": "f982b60c",
   "metadata": {},
   "outputs": [
    {
     "data": {
      "text/plain": [
       "'02'"
      ]
     },
     "execution_count": 11,
     "metadata": {},
     "output_type": "execute_result"
    }
   ],
   "source": [
    "'0'+'2'"
   ]
  },
  {
   "cell_type": "code",
   "execution_count": 12,
   "id": "6faaf63e",
   "metadata": {},
   "outputs": [
    {
     "data": {
      "text/plain": [
       "'000'"
      ]
     },
     "execution_count": 12,
     "metadata": {},
     "output_type": "execute_result"
    }
   ],
   "source": [
    "'0'*3"
   ]
  },
  {
   "cell_type": "code",
   "execution_count": 13,
   "id": "1570d6cb",
   "metadata": {},
   "outputs": [
    {
     "data": {
      "text/plain": [
       "'thailandlandland'"
      ]
     },
     "execution_count": 13,
     "metadata": {},
     "output_type": "execute_result"
    }
   ],
   "source": [
    "'thai'+'land'*3"
   ]
  },
  {
   "cell_type": "code",
   "execution_count": null,
   "id": "68867c41",
   "metadata": {},
   "outputs": [],
   "source": []
  }
 ],
 "metadata": {
  "kernelspec": {
   "display_name": "Python 3.9 (tensorflow)",
   "language": "python",
   "name": "tensorflow"
  },
  "language_info": {
   "codemirror_mode": {
    "name": "ipython",
    "version": 3
   },
   "file_extension": ".py",
   "mimetype": "text/x-python",
   "name": "python",
   "nbconvert_exporter": "python",
   "pygments_lexer": "ipython3",
   "version": "3.9.13"
  }
 },
 "nbformat": 4,
 "nbformat_minor": 5
}
