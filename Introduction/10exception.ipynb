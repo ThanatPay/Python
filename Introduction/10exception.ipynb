{
 "cells": [
  {
   "cell_type": "markdown",
   "id": "63f7881a",
   "metadata": {},
   "source": [
    "## Except"
   ]
  },
  {
   "cell_type": "code",
   "execution_count": 1,
   "id": "25c68a74",
   "metadata": {},
   "outputs": [
    {
     "name": "stdout",
     "output_type": "stream",
     "text": [
      "1\n",
      "0\n",
      "division by zero\n",
      "work...\n"
     ]
    }
   ],
   "source": [
    "try:\n",
    "    number1 = int(input())\n",
    "    number2 = int(input())\n",
    "    print(number1/number2)\n",
    "except Exception as e:\n",
    "    print(e)\n",
    "else:\n",
    "    print('finish')\n",
    "finally:\n",
    "    print('work...')"
   ]
  },
  {
   "cell_type": "code",
   "execution_count": 2,
   "id": "61c93254",
   "metadata": {},
   "outputs": [
    {
     "name": "stdout",
     "output_type": "stream",
     "text": [
      "-1\n",
      "-1\n",
      "cannot use Negative value\n",
      "work...\n",
      "1\n",
      "2\n",
      "0.5\n",
      "work...\n",
      "0\n",
      "0\n",
      "finish\n",
      "work...\n"
     ]
    }
   ],
   "source": [
    "while True:\n",
    "    try:\n",
    "        number1 = int(input())\n",
    "        number2 = int(input())\n",
    "        if number1 == 0 and number2 == 0:\n",
    "            print('finish')\n",
    "            break\n",
    "        if number1 < 0 and number2 < 0:\n",
    "            raise Exception(\"cannot use Negative value\")\n",
    "        print(number1/number2)\n",
    "    except Exception as e:\n",
    "        print(e)\n",
    "    finally:\n",
    "        print('work...')"
   ]
  },
  {
   "cell_type": "code",
   "execution_count": null,
   "id": "f7164b97",
   "metadata": {},
   "outputs": [],
   "source": []
  }
 ],
 "metadata": {
  "kernelspec": {
   "display_name": "Python 3.9 (tensorflow)",
   "language": "python",
   "name": "tensorflow"
  },
  "language_info": {
   "codemirror_mode": {
    "name": "ipython",
    "version": 3
   },
   "file_extension": ".py",
   "mimetype": "text/x-python",
   "name": "python",
   "nbconvert_exporter": "python",
   "pygments_lexer": "ipython3",
   "version": "3.9.13"
  }
 },
 "nbformat": 4,
 "nbformat_minor": 5
}
