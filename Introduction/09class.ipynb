{
 "cells": [
  {
   "cell_type": "markdown",
   "id": "ee2b2eda",
   "metadata": {},
   "source": [
    "## Class"
   ]
  },
  {
   "cell_type": "markdown",
   "id": "7e72ef94",
   "metadata": {},
   "source": [
    "#### class init (Do it from calling function)"
   ]
  },
  {
   "cell_type": "code",
   "execution_count": 1,
   "id": "ed578594",
   "metadata": {},
   "outputs": [],
   "source": [
    "class FootballPlayer1:\n",
    "    def __init__(self):\n",
    "        print(\"Default construtor\")\n",
    "    def detail(self, name, height, weight):\n",
    "        self.name = name\n",
    "        self.height = height\n",
    "        self.weight = weight\n",
    "    \n",
    "    def showData(self):\n",
    "        print(\"name: {}\".format(self.name))\n",
    "        print(\"height: {}\".format(self.height))\n",
    "        print(\"weight: {}\".format(self.weight))"
   ]
  },
  {
   "cell_type": "code",
   "execution_count": 2,
   "id": "01d1ff9d",
   "metadata": {},
   "outputs": [
    {
     "name": "stdout",
     "output_type": "stream",
     "text": [
      "Default construtor\n"
     ]
    }
   ],
   "source": [
    "f1 = FootballPlayer1()"
   ]
  },
  {
   "cell_type": "code",
   "execution_count": 3,
   "id": "2cc18c64",
   "metadata": {},
   "outputs": [
    {
     "name": "stdout",
     "output_type": "stream",
     "text": [
      "name: Steven\n",
      "height: 183.5\n",
      "weight: 80.0\n"
     ]
    }
   ],
   "source": [
    "f1.detail(\"Steven\", 183.5, 80.0)\n",
    "f1.showData()"
   ]
  },
  {
   "cell_type": "markdown",
   "id": "934b5afb",
   "metadata": {},
   "source": [
    "#### class del (when class is stoped, clear RAM)"
   ]
  },
  {
   "cell_type": "code",
   "execution_count": 4,
   "id": "a7f38356",
   "metadata": {},
   "outputs": [],
   "source": [
    "class FootballPlayer2:\n",
    "    def __init__(self, name, height, weight):\n",
    "        self.name = name\n",
    "        self.height = height\n",
    "        self.weight = weight\n",
    "    \n",
    "    def showData(self):\n",
    "        print(\"name: {}\".format(self.name))\n",
    "        print(\"height: {}\".format(self.height))\n",
    "        print(\"weight: {}\".format(self.weight))\n",
    "        \n",
    "    def __del__(self):\n",
    "        print(\"Call destructor\")"
   ]
  },
  {
   "cell_type": "code",
   "execution_count": 5,
   "id": "fd2d4974",
   "metadata": {},
   "outputs": [
    {
     "name": "stdout",
     "output_type": "stream",
     "text": [
      "name: Steven\n",
      "height: 183.5\n",
      "weight: 80.0\n"
     ]
    }
   ],
   "source": [
    "f1 = FootballPlayer2(\"Steven\", 183.5, 80.0)\n",
    "f1.showData()"
   ]
  },
  {
   "cell_type": "code",
   "execution_count": 6,
   "id": "b1213a27",
   "metadata": {},
   "outputs": [
    {
     "name": "stdout",
     "output_type": "stream",
     "text": [
      "name: Jordan\n",
      "height: 185.5\n",
      "weight: 77\n"
     ]
    }
   ],
   "source": [
    "f2 = FootballPlayer2(\"Jordan\", 185.0, 74.5)\n",
    "f2.height = 185.5\n",
    "f2.weight = 77\n",
    "f2.showData()"
   ]
  },
  {
   "cell_type": "code",
   "execution_count": 7,
   "id": "8c3a9b20",
   "metadata": {},
   "outputs": [
    {
     "name": "stdout",
     "output_type": "stream",
     "text": [
      "Call destructor\n",
      "Call destructor\n"
     ]
    }
   ],
   "source": [
    "f1 = FootballPlayer2(\"Steven\", 183.5, 80.0)\n",
    "f2 = FootballPlayer2(\"Jordan\", 185.0, 74.5)"
   ]
  },
  {
   "cell_type": "markdown",
   "id": "21ee3085",
   "metadata": {},
   "source": [
    "#### check instance"
   ]
  },
  {
   "cell_type": "code",
   "execution_count": 8,
   "id": "72be7670",
   "metadata": {},
   "outputs": [
    {
     "name": "stdout",
     "output_type": "stream",
     "text": [
      "True\n"
     ]
    }
   ],
   "source": [
    "print(isinstance(f1,FootballPlayer2))"
   ]
  },
  {
   "cell_type": "markdown",
   "id": "6b638a2c",
   "metadata": {},
   "source": [
    "#### show directory"
   ]
  },
  {
   "cell_type": "code",
   "execution_count": 9,
   "id": "8bca09c3",
   "metadata": {
    "scrolled": true
   },
   "outputs": [
    {
     "name": "stdout",
     "output_type": "stream",
     "text": [
      "['__class__', '__del__', '__delattr__', '__dict__', '__dir__', '__doc__', '__eq__', '__format__', '__ge__', '__getattribute__', '__gt__', '__hash__', '__init__', '__init_subclass__', '__le__', '__lt__', '__module__', '__ne__', '__new__', '__reduce__', '__reduce_ex__', '__repr__', '__setattr__', '__sizeof__', '__str__', '__subclasshook__', '__weakref__', 'showData']\n"
     ]
    }
   ],
   "source": [
    "print(dir(FootballPlayer2))"
   ]
  },
  {
   "cell_type": "code",
   "execution_count": 10,
   "id": "c3e82843",
   "metadata": {},
   "outputs": [
    {
     "name": "stdout",
     "output_type": "stream",
     "text": [
      "['__class__', '__del__', '__delattr__', '__dict__', '__dir__', '__doc__', '__eq__', '__format__', '__ge__', '__getattribute__', '__gt__', '__hash__', '__init__', '__init_subclass__', '__le__', '__lt__', '__module__', '__ne__', '__new__', '__reduce__', '__reduce_ex__', '__repr__', '__setattr__', '__sizeof__', '__str__', '__subclasshook__', '__weakref__', 'height', 'name', 'showData', 'weight']\n"
     ]
    }
   ],
   "source": [
    "print(dir(f1))"
   ]
  },
  {
   "cell_type": "code",
   "execution_count": 11,
   "id": "7b0c2bd4",
   "metadata": {},
   "outputs": [
    {
     "name": "stdout",
     "output_type": "stream",
     "text": [
      "<class '__main__.FootballPlayer2'>\n"
     ]
    }
   ],
   "source": [
    "print(f1.__class__)"
   ]
  },
  {
   "cell_type": "markdown",
   "id": "0b780589",
   "metadata": {},
   "source": [
    "#### class Encapsulation"
   ]
  },
  {
   "cell_type": "code",
   "execution_count": 12,
   "id": "97835880",
   "metadata": {},
   "outputs": [
    {
     "name": "stdout",
     "output_type": "stream",
     "text": [
      "Call destructor\n",
      "name: Jordan\n",
      "height: 185.0\n",
      "weight: 80.0\n"
     ]
    }
   ],
   "source": [
    "class FootballPlayer1:\n",
    "\n",
    "    def __init__(self, name, height, weight):\n",
    "        #public attribute\n",
    "        self.name = name\n",
    "        self.height = height\n",
    "        self.weight = weight\n",
    "    \n",
    "    def showData(self):\n",
    "        #public attribute\n",
    "        print(\"name: {}\".format(self.name))\n",
    "        print(\"height: {}\".format(self.height))\n",
    "        print(\"weight: {}\".format(self.weight))\n",
    "              \n",
    "f1 = FootballPlayer1(\"Steven\", 183.5, 80.0)\n",
    "f1.name = \"Jordan\"\n",
    "f1.height = 185.0\n",
    "f1.showData()"
   ]
  },
  {
   "cell_type": "code",
   "execution_count": 13,
   "id": "84303936",
   "metadata": {},
   "outputs": [
    {
     "name": "stdout",
     "output_type": "stream",
     "text": [
      "name: Steven\n",
      "height: 183.5\n",
      "weight: 80.0\n",
      "name: Jordan\n",
      "height: 185.0\n",
      "weight: 80.0\n"
     ]
    }
   ],
   "source": [
    "class FootballPlayer2:\n",
    "\n",
    "    def __init__(self, name, height, weight):\n",
    "        #protected attribute\n",
    "        self._name = name\n",
    "        self._height = height\n",
    "        self._weight = weight\n",
    "    \n",
    "    def _showData(self):\n",
    "        #protected attribute\n",
    "        print(\"name: {}\".format(self._name))\n",
    "        print(\"height: {}\".format(self._height))\n",
    "        print(\"weight: {}\".format(self._weight))\n",
    "              \n",
    "f1 = FootballPlayer2(\"Steven\", 183.5, 80.0)\n",
    "f1.name = \"Jordan\"\n",
    "f1.height = 185.0\n",
    "f1._showData()\n",
    "f1._name = \"Jordan\"\n",
    "f1._height = 185.0\n",
    "f1._showData()"
   ]
  },
  {
   "cell_type": "code",
   "execution_count": 14,
   "id": "bd3e3362",
   "metadata": {},
   "outputs": [
    {
     "name": "stdout",
     "output_type": "stream",
     "text": [
      "name: Steven\n",
      "height: 174.8\n",
      "weight: 65\n"
     ]
    },
    {
     "ename": "AttributeError",
     "evalue": "'FootballPlayer3' object has no attribute '__showData'",
     "output_type": "error",
     "traceback": [
      "\u001b[0;31m---------------------------------------------------------------------------\u001b[0m",
      "\u001b[0;31mAttributeError\u001b[0m                            Traceback (most recent call last)",
      "Cell \u001b[0;32mIn [14], line 20\u001b[0m\n\u001b[1;32m     18\u001b[0m f1\u001b[38;5;241m.\u001b[39m__height \u001b[38;5;241m=\u001b[39m \u001b[38;5;241m157\u001b[39m \u001b[38;5;66;03m#cannot replace attribute\u001b[39;00m\n\u001b[1;32m     19\u001b[0m f1\u001b[38;5;241m.\u001b[39m__weight \u001b[38;5;241m=\u001b[39m \u001b[38;5;241m47\u001b[39m \u001b[38;5;66;03m#cannot replace attribute\u001b[39;00m\n\u001b[0;32m---> 20\u001b[0m \u001b[43mf1\u001b[49m\u001b[38;5;241;43m.\u001b[39;49m\u001b[43m__showData\u001b[49m()\n",
      "\u001b[0;31mAttributeError\u001b[0m: 'FootballPlayer3' object has no attribute '__showData'"
     ]
    }
   ],
   "source": [
    "class FootballPlayer3:\n",
    "\n",
    "    def __init__(self, name, height, weight):\n",
    "        #private attribute\n",
    "        self._name = name  #protected attribute\n",
    "        self.__height = height\n",
    "        self.__weight = weight\n",
    "        self.__showData()\n",
    "    \n",
    "    def __showData(self):\n",
    "        #private attribute\n",
    "        print(\"name: {}\".format(self._name))\n",
    "        print(\"height: {}\".format(self.__height))\n",
    "        print(\"weight: {}\".format(self.__weight))\n",
    "\n",
    "f1 = FootballPlayer3(\"Steven\", 174.8, 65)\n",
    "f1._name = \"Jordan\"\n",
    "f1.__height = 157 #cannot replace attribute\n",
    "f1.__weight = 47 #cannot replace attribute\n",
    "f1.__showData() #cannnot call outside class"
   ]
  },
  {
   "cell_type": "markdown",
   "id": "79118ac1",
   "metadata": {},
   "source": [
    "#### class gettersetter (you can use getter setter call private attribute)"
   ]
  },
  {
   "cell_type": "code",
   "execution_count": 15,
   "id": "5a76126a",
   "metadata": {},
   "outputs": [
    {
     "name": "stdout",
     "output_type": "stream",
     "text": [
      "name: Jordan\n",
      "height: 185.0\n",
      "weight: 77.0\n",
      "Jordan\n",
      "185.0\n",
      "77.0\n"
     ]
    }
   ],
   "source": [
    "class FootballPlayer:\n",
    "\n",
    "    def __init__(self, name, height, weight):\n",
    "        #private attribute\n",
    "        self.__name = name  #protected attribute\n",
    "        self.__height = height\n",
    "        self.__weight = weight\n",
    "    \n",
    "    def _showData(self):\n",
    "        #private attribute\n",
    "        print(\"name: {}\".format(self.__name))\n",
    "        print(\"height: {}\".format(self.__height))\n",
    "        print(\"weight: {}\".format(self.__weight))\n",
    "        \n",
    "    def setName(self, newname):\n",
    "        self.__name = newname\n",
    "        \n",
    "    def setHeight(self, newheight):\n",
    "        self.__height = newheight\n",
    "    \n",
    "    def setWeight(self, newweight):\n",
    "        self.__weight = newweight\n",
    "        \n",
    "    def getName(self):\n",
    "        return self.__name\n",
    "    \n",
    "    def getHeight(self):\n",
    "        return self.__height\n",
    "    \n",
    "    def getWeight(self):\n",
    "        return self.__weight\n",
    "              \n",
    "fam1 = FootballPlayer(\"Steven\", 183.5, 80.0)\n",
    "fam1.setName(\"Jordan\")\n",
    "fam1.setHeight(185.0)\n",
    "fam1.setWeight(77.0)\n",
    "fam1._showData() \n",
    "print(fam1.getName())\n",
    "print(fam1.getHeight())\n",
    "print(fam1.getWeight())"
   ]
  },
  {
   "cell_type": "markdown",
   "id": "3b183436",
   "metadata": {},
   "source": [
    "#### class variable"
   ]
  },
  {
   "cell_type": "code",
   "execution_count": 16,
   "id": "693c0168",
   "metadata": {},
   "outputs": [
    {
     "name": "stdout",
     "output_type": "stream",
     "text": [
      "120\n"
     ]
    }
   ],
   "source": [
    "class FootballPlayer:\n",
    "    #class variable\n",
    "    _minHeight = 120\n",
    "    _maxHeight = 200\n",
    "    def __init__(self, name, height, weight):\n",
    "        #instant variable\n",
    "        self.__name = name\n",
    "        self.__height = height\n",
    "        self.__weight = weight\n",
    "    \n",
    "    def _showData(self):\n",
    "        #private attribute\n",
    "        print(\"name: {}\".format(self.__name))\n",
    "        print(\"height: {}\".format(self.__height))\n",
    "        print(\"weight: {}\".format(self.__weight))\n",
    "\n",
    "              \n",
    "fam1 = FootballPlayer(\"Steven\", 183.5, 80.0)\n",
    "print(fam1._minHeight)"
   ]
  },
  {
   "cell_type": "markdown",
   "id": "991d8631",
   "metadata": {},
   "source": [
    "#### class Inheritance (call attribute in parrent class)"
   ]
  },
  {
   "cell_type": "code",
   "execution_count": 17,
   "id": "16abe884",
   "metadata": {},
   "outputs": [
    {
     "name": "stdout",
     "output_type": "stream",
     "text": [
      "120\n",
      "200\n"
     ]
    }
   ],
   "source": [
    "class FootballPlayer:\n",
    "    #class variable\n",
    "    minHeight = 120\n",
    "    __maxHeight = 200\n",
    "    def __init__(self, name, height, weight):\n",
    "        #instant variable\n",
    "        self.__name = name\n",
    "        self.__height = height\n",
    "        self.__weight = weight\n",
    "    \n",
    "    def _showData(self):\n",
    "        #private attribute\n",
    "        print(\"name: {}\".format(self.__name))\n",
    "        print(\"height: {}\".format(self.__height))\n",
    "        print(\"weight: {}\".format(self.__weight))\n",
    "\n",
    "class Sho(FootballPlayer):\n",
    "    def __init__(self):\n",
    "        pass\n",
    "\n",
    "class Pas(FootballPlayer):\n",
    "    def __init__(self):\n",
    "        pass\n",
    "              \n",
    "        \n",
    "s = Sho()\n",
    "print(s.minHeight)\n",
    "p = Pas()\n",
    "print(p._FootballPlayer__maxHeight)"
   ]
  },
  {
   "cell_type": "markdown",
   "id": "27a265e7",
   "metadata": {},
   "source": [
    "#### class super"
   ]
  },
  {
   "cell_type": "code",
   "execution_count": 18,
   "id": "c91d78d9",
   "metadata": {},
   "outputs": [
    {
     "name": "stdout",
     "output_type": "stream",
     "text": [
      "name: Steven\n",
      "position: forward\n",
      "name: Steven\n",
      "position: forward\n",
      "name: Jordan\n",
      "position: midfiled\n",
      "Call destructor\n",
      "name: Jordan\n",
      "position: midfiled\n"
     ]
    }
   ],
   "source": [
    "class FootballPlayer:\n",
    "    #class variable\n",
    "    minHeight = 120\n",
    "    __maxHeight = 200\n",
    "    def __init__(self, name, position):\n",
    "        #instant variable\n",
    "        self.__name = name\n",
    "        self.__position = position\n",
    "    \n",
    "    def _showData(self):\n",
    "        #private attribute\n",
    "        print(\"name: {}\".format(self.__name))\n",
    "        print(\"position: {}\".format(self.__position))\n",
    "\n",
    "class Sho(FootballPlayer):\n",
    "    __position = 'forward'\n",
    "    def __init__(self, name):\n",
    "        super().__init__(name, self.__position)\n",
    "        super()._showData()\n",
    "\n",
    "class Pas(FootballPlayer):\n",
    "    __position = 'midfiled'\n",
    "    def __init__(self, name):\n",
    "        super().__init__(name, self.__position)\n",
    "        super()._showData()\n",
    "\n",
    "f1 = Sho('Steven')\n",
    "f1._showData()\n",
    "f2 = Pas('Jordan')\n",
    "f2._showData()"
   ]
  },
  {
   "cell_type": "markdown",
   "id": "51b2b93c",
   "metadata": {},
   "source": [
    "#### class str"
   ]
  },
  {
   "cell_type": "code",
   "execution_count": 19,
   "id": "41da8a0e",
   "metadata": {},
   "outputs": [
    {
     "name": "stdout",
     "output_type": "stream",
     "text": [
      "name: Steven, gender: forward, BMI: 23.76\n",
      "name: Jordan, gender: midfiled, BMI: 22.50\n"
     ]
    }
   ],
   "source": [
    "class FootballPlayer:\n",
    "    #class variable\n",
    "    minHeight = 120\n",
    "    __maxHeight = 200\n",
    "    def __init__(self, name, height, weight, position):\n",
    "        #instant variable\n",
    "        self.__name = name\n",
    "        self.__height = height\n",
    "        self.__weight = weight\n",
    "        self.__position = position\n",
    "    \n",
    "    def _showData(self):\n",
    "        #private attribute\n",
    "        print(\"name: {}\".format(self.__name))\n",
    "        print(\"height: {}\".format(self.__height))\n",
    "        print(\"weight: {}\".format(self.__weight))\n",
    "        print(\"position: {}\".format(self.__position))\n",
    "        \n",
    "    def _getBMI(self):\n",
    "        return self.__weight/((self.__height/100)**2)\n",
    "    \n",
    "    def __str__(self):\n",
    "        return (\"name: {}, gender: {}, BMI: {:.2f}\"\n",
    "                .format(self.__name, self.__position, self._getBMI()))\n",
    "\n",
    "class Sho(FootballPlayer):\n",
    "    __position = 'forward'\n",
    "    def __init__(self, name, height, weight):\n",
    "        super().__init__(name, height, weight, self.__position)\n",
    "\n",
    "class Pas(FootballPlayer):\n",
    "    __position = 'midfiled'\n",
    "    def __init__(self, name, height, weight):\n",
    "        super().__init__(name, height, weight, self.__position)\n",
    "\n",
    "f1 = Sho('Steven', 183.5, 80.0)\n",
    "print(f1.__str__())\n",
    "f2 = Pas('Jordan', 185.0, 77.0)\n",
    "print(f2.__str__())"
   ]
  },
  {
   "cell_type": "code",
   "execution_count": null,
   "id": "793051c5",
   "metadata": {},
   "outputs": [],
   "source": []
  }
 ],
 "metadata": {
  "kernelspec": {
   "display_name": "Python 3.9 (tensorflow)",
   "language": "python",
   "name": "tensorflow"
  },
  "language_info": {
   "codemirror_mode": {
    "name": "ipython",
    "version": 3
   },
   "file_extension": ".py",
   "mimetype": "text/x-python",
   "name": "python",
   "nbconvert_exporter": "python",
   "pygments_lexer": "ipython3",
   "version": "3.9.13"
  }
 },
 "nbformat": 4,
 "nbformat_minor": 5
}
