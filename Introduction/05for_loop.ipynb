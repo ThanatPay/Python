{
 "cells": [
  {
   "cell_type": "markdown",
   "id": "4a745851",
   "metadata": {},
   "source": [
    "### For Loops"
   ]
  },
  {
   "cell_type": "code",
   "execution_count": 1,
   "id": "d607a65f",
   "metadata": {},
   "outputs": [
    {
     "name": "stdout",
     "output_type": "stream",
     "text": [
      "1\n",
      "2\n",
      "3\n",
      "4\n",
      "5\n"
     ]
    }
   ],
   "source": [
    "for i in range(5):\n",
    "    print(i+1)"
   ]
  },
  {
   "cell_type": "markdown",
   "id": "d39499b1",
   "metadata": {},
   "source": [
    "###### Enumerate"
   ]
  },
  {
   "cell_type": "code",
   "execution_count": 2,
   "id": "58d7302e",
   "metadata": {},
   "outputs": [
    {
     "name": "stdout",
     "output_type": "stream",
     "text": [
      "0 Alison\n",
      "1 Konate\n",
      "2 Henderson\n",
      "3 Salah\n"
     ]
    }
   ],
   "source": [
    "names = ['Alison', 'Konate', 'Henderson', 'Salah']\n",
    "for index, name in enumerate(names):\n",
    "    print(index,name)"
   ]
  },
  {
   "cell_type": "markdown",
   "id": "c7c7f653",
   "metadata": {},
   "source": [
    "###### Continue"
   ]
  },
  {
   "cell_type": "code",
   "execution_count": 3,
   "id": "8bc7f040",
   "metadata": {},
   "outputs": [
    {
     "name": "stdout",
     "output_type": "stream",
     "text": [
      "Alison\n",
      "Henderson\n"
     ]
    }
   ],
   "source": [
    "for name in names:\n",
    "    if 'a' in name:\n",
    "        continue\n",
    "    print(name)"
   ]
  },
  {
   "cell_type": "markdown",
   "id": "24977f30",
   "metadata": {},
   "source": [
    "###### Break"
   ]
  },
  {
   "cell_type": "code",
   "execution_count": 4,
   "id": "69faddd9",
   "metadata": {},
   "outputs": [
    {
     "name": "stdout",
     "output_type": "stream",
     "text": [
      "Alison\n"
     ]
    }
   ],
   "source": [
    "for name in names:\n",
    "    if 'a' in name:\n",
    "        break\n",
    "    print(name)"
   ]
  },
  {
   "cell_type": "code",
   "execution_count": null,
   "id": "3c254731",
   "metadata": {},
   "outputs": [],
   "source": []
  }
 ],
 "metadata": {
  "kernelspec": {
   "display_name": "Python 3.9 (tensorflow)",
   "language": "python",
   "name": "tensorflow"
  },
  "language_info": {
   "codemirror_mode": {
    "name": "ipython",
    "version": 3
   },
   "file_extension": ".py",
   "mimetype": "text/x-python",
   "name": "python",
   "nbconvert_exporter": "python",
   "pygments_lexer": "ipython3",
   "version": "3.9.13"
  }
 },
 "nbformat": 4,
 "nbformat_minor": 5
}
