{
 "cells": [
  {
   "cell_type": "markdown",
   "id": "956ebf84",
   "metadata": {},
   "source": [
    "## Dictionaries"
   ]
  },
  {
   "cell_type": "code",
   "execution_count": 1,
   "id": "7d98c331",
   "metadata": {},
   "outputs": [],
   "source": [
    "Dict = {\"Alison\": \"Becker\",\n",
    "        \"Ibrahima\": \"Konate\",\n",
    "        \"Jordan\": \"Henderson\",\n",
    "        \"Mohamed\": \"Salah\"}"
   ]
  },
  {
   "cell_type": "code",
   "execution_count": 2,
   "id": "d134120f",
   "metadata": {
    "scrolled": true
   },
   "outputs": [
    {
     "data": {
      "text/plain": [
       "{'Alison': 'Becker',\n",
       " 'Ibrahima': 'Konate',\n",
       " 'Jordan': 'Henderson',\n",
       " 'Mohamed': 'Salah'}"
      ]
     },
     "execution_count": 2,
     "metadata": {},
     "output_type": "execute_result"
    }
   ],
   "source": [
    "Dict"
   ]
  },
  {
   "cell_type": "markdown",
   "id": "ebc4fed7",
   "metadata": {},
   "source": [
    "#### Access Value in DIctionary"
   ]
  },
  {
   "cell_type": "code",
   "execution_count": 3,
   "id": "1a92accb",
   "metadata": {},
   "outputs": [
    {
     "data": {
      "text/plain": [
       "'Becker'"
      ]
     },
     "execution_count": 3,
     "metadata": {},
     "output_type": "execute_result"
    }
   ],
   "source": [
    "Dict[\"Alison\"]"
   ]
  },
  {
   "cell_type": "markdown",
   "id": "02c3ec89",
   "metadata": {},
   "source": [
    "#### Update dictionary"
   ]
  },
  {
   "cell_type": "code",
   "execution_count": 4,
   "id": "8a847286",
   "metadata": {},
   "outputs": [
    {
     "data": {
      "text/plain": [
       "{'Alison': 'Becker',\n",
       " 'Ibrahima': 'Konate',\n",
       " 'Jordan': 'Henderson',\n",
       " 'Mohamed': 'Salah',\n",
       " 'Roberto': 'Firmino'}"
      ]
     },
     "execution_count": 4,
     "metadata": {},
     "output_type": "execute_result"
    }
   ],
   "source": [
    "Dict['Roberto'] = 'Firmino'\n",
    "Dict"
   ]
  },
  {
   "cell_type": "code",
   "execution_count": 5,
   "id": "d5e45222",
   "metadata": {},
   "outputs": [
    {
     "data": {
      "text/plain": [
       "{'Alison': 'Becker',\n",
       " 'Ibrahima': 'Konate',\n",
       " 'Jordan': 'Henderson',\n",
       " 'Mohamed': 'Salah',\n",
       " 'Roberto': 'carlos',\n",
       " 'Sadio': 'Mane'}"
      ]
     },
     "execution_count": 5,
     "metadata": {},
     "output_type": "execute_result"
    }
   ],
   "source": [
    "Dict.update({\"Roberto\": \"carlos\",\n",
    "        \"Sadio\": \"Mane\"})\n",
    "Dict"
   ]
  },
  {
   "cell_type": "code",
   "execution_count": 6,
   "id": "c9d6b944",
   "metadata": {},
   "outputs": [
    {
     "data": {
      "text/plain": [
       "{'Alison': 'Becker',\n",
       " 'Ibrahima': 'Konate',\n",
       " 'Jordan': 'Henderson',\n",
       " 'Mohamed': 'Salah',\n",
       " 'Sadio': 'Mane'}"
      ]
     },
     "execution_count": 6,
     "metadata": {},
     "output_type": "execute_result"
    }
   ],
   "source": [
    "del Dict['Roberto']\n",
    "Dict"
   ]
  },
  {
   "cell_type": "markdown",
   "id": "1e0c3a3d",
   "metadata": {},
   "source": [
    "#### Not everything can be used as a Key"
   ]
  },
  {
   "cell_type": "code",
   "execution_count": 7,
   "id": "530b1a31",
   "metadata": {},
   "outputs": [
    {
     "ename": "TypeError",
     "evalue": "unhashable type: 'list'",
     "output_type": "error",
     "traceback": [
      "\u001b[0;31m---------------------------------------------------------------------------\u001b[0m",
      "\u001b[0;31mTypeError\u001b[0m                                 Traceback (most recent call last)",
      "Cell \u001b[0;32mIn [7], line 2\u001b[0m\n\u001b[1;32m      1\u001b[0m \u001b[38;5;66;03m#Lists cannot be used as keys, but tuples, numbers, and strings can.\u001b[39;00m\n\u001b[0;32m----> 2\u001b[0m \u001b[43mDict\u001b[49m\u001b[43m[\u001b[49m\u001b[43m[\u001b[49m\u001b[38;5;124;43m'\u001b[39;49m\u001b[38;5;124;43mTrent\u001b[39;49m\u001b[38;5;124;43m'\u001b[39;49m\u001b[43m]\u001b[49m\u001b[43m]\u001b[49m\n",
      "\u001b[0;31mTypeError\u001b[0m: unhashable type: 'list'"
     ]
    }
   ],
   "source": [
    "#Lists cannot be used as keys, but tuples, numbers, and strings can.\n",
    "Dict[['Trent']]"
   ]
  },
  {
   "cell_type": "markdown",
   "id": "5adde408",
   "metadata": {},
   "source": [
    "#### Return Value for Given key medthod"
   ]
  },
  {
   "cell_type": "code",
   "execution_count": 8,
   "id": "94474092",
   "metadata": {},
   "outputs": [
    {
     "data": {
      "text/plain": [
       "{'Alison': 'Becker',\n",
       " 'Ibrahima': 'Konate',\n",
       " 'Jordan': 'Henderson',\n",
       " 'Mohamed': 'Salah',\n",
       " 'Sadio': 'Mane'}"
      ]
     },
     "execution_count": 8,
     "metadata": {},
     "output_type": "execute_result"
    }
   ],
   "source": [
    "Dict"
   ]
  },
  {
   "cell_type": "code",
   "execution_count": 9,
   "id": "dde864bb",
   "metadata": {},
   "outputs": [
    {
     "ename": "KeyError",
     "evalue": "'alison'",
     "output_type": "error",
     "traceback": [
      "\u001b[0;31m---------------------------------------------------------------------------\u001b[0m",
      "\u001b[0;31mKeyError\u001b[0m                                  Traceback (most recent call last)",
      "Cell \u001b[0;32mIn [9], line 2\u001b[0m\n\u001b[1;32m      1\u001b[0m \u001b[38;5;66;03m# key error for keys that do not exist\u001b[39;00m\n\u001b[0;32m----> 2\u001b[0m \u001b[43mDict\u001b[49m\u001b[43m[\u001b[49m\u001b[38;5;124;43m'\u001b[39;49m\u001b[38;5;124;43malison\u001b[39;49m\u001b[38;5;124;43m'\u001b[39;49m\u001b[43m]\u001b[49m\n",
      "\u001b[0;31mKeyError\u001b[0m: 'alison'"
     ]
    }
   ],
   "source": [
    "# key error for keys that do not exist\n",
    "Dict['alison']"
   ]
  },
  {
   "cell_type": "code",
   "execution_count": 10,
   "id": "549199ff",
   "metadata": {},
   "outputs": [
    {
     "data": {
      "text/plain": [
       "'Becker'"
      ]
     },
     "execution_count": 10,
     "metadata": {},
     "output_type": "execute_result"
    }
   ],
   "source": [
    "Dict.get('Alison')"
   ]
  },
  {
   "cell_type": "code",
   "execution_count": 11,
   "id": "995dd29f",
   "metadata": {},
   "outputs": [],
   "source": [
    "Dict.get('alison')"
   ]
  },
  {
   "cell_type": "code",
   "execution_count": 12,
   "id": "685fb485",
   "metadata": {
    "scrolled": true
   },
   "outputs": [
    {
     "data": {
      "text/plain": [
       "1"
      ]
     },
     "execution_count": 12,
     "metadata": {},
     "output_type": "execute_result"
    }
   ],
   "source": [
    "Dict.get('alison',1)"
   ]
  },
  {
   "cell_type": "code",
   "execution_count": 13,
   "id": "1ca7849a",
   "metadata": {},
   "outputs": [
    {
     "name": "stdout",
     "output_type": "stream",
     "text": [
      "None\n"
     ]
    }
   ],
   "source": [
    "print(Dict.get('alison'))"
   ]
  },
  {
   "cell_type": "markdown",
   "id": "01a562f5",
   "metadata": {},
   "source": [
    "#### Romove key, but also return Value"
   ]
  },
  {
   "cell_type": "code",
   "execution_count": 14,
   "id": "fb5bc05b",
   "metadata": {},
   "outputs": [
    {
     "name": "stdout",
     "output_type": "stream",
     "text": [
      "Mane\n"
     ]
    }
   ],
   "source": [
    "c = Dict.pop('Sadio')\n",
    "print(c)"
   ]
  },
  {
   "cell_type": "markdown",
   "id": "d6c318ff",
   "metadata": {},
   "source": [
    "#### Iteraring through Dicrionary"
   ]
  },
  {
   "cell_type": "code",
   "execution_count": null,
   "id": "d2a39726",
   "metadata": {},
   "outputs": [],
   "source": [
    "for key in Dict:\n",
    "    print(key)"
   ]
  },
  {
   "cell_type": "code",
   "execution_count": null,
   "id": "d849331a",
   "metadata": {},
   "outputs": [],
   "source": [
    "for key, value in Dict.items():\n",
    "    print(key, value)"
   ]
  },
  {
   "cell_type": "code",
   "execution_count": null,
   "id": "c6ab4b6d",
   "metadata": {},
   "outputs": [],
   "source": []
  }
 ],
 "metadata": {
  "kernelspec": {
   "display_name": "Python 3.9 (tensorflow)",
   "language": "python",
   "name": "tensorflow"
  },
  "language_info": {
   "codemirror_mode": {
    "name": "ipython",
    "version": 3
   },
   "file_extension": ".py",
   "mimetype": "text/x-python",
   "name": "python",
   "nbconvert_exporter": "python",
   "pygments_lexer": "ipython3",
   "version": "3.9.13"
  }
 },
 "nbformat": 4,
 "nbformat_minor": 5
}
