{
 "cells": [
  {
   "cell_type": "markdown",
   "metadata": {
    "id": "61-PPUMgqqkh"
   },
   "source": [
    "# **1. Load Iris Plants Dataset**\n",
    "\n",
    "Reference: https://www.kaggle.com/code"
   ]
  },
  {
   "cell_type": "code",
   "execution_count": 1,
   "metadata": {
    "colab": {
     "base_uri": "https://localhost:8080/"
    },
    "id": "ToqElyT3ghwT",
    "outputId": "4c189246-31aa-4b8d-9172-6835ac015931"
   },
   "outputs": [
    {
     "name": "stdout",
     "output_type": "stream",
     "text": [
      "Requirement already satisfied: scikit-learn==1.0.2 in /Users/tanutpayatsuporn/opt/anaconda3/lib/python3.9/site-packages (1.0.2)\n",
      "Requirement already satisfied: joblib>=0.11 in /Users/tanutpayatsuporn/opt/anaconda3/lib/python3.9/site-packages (from scikit-learn==1.0.2) (1.1.0)\n",
      "Requirement already satisfied: scipy>=1.1.0 in /Users/tanutpayatsuporn/opt/anaconda3/lib/python3.9/site-packages (from scikit-learn==1.0.2) (1.7.3)\n",
      "Requirement already satisfied: threadpoolctl>=2.0.0 in /Users/tanutpayatsuporn/opt/anaconda3/lib/python3.9/site-packages (from scikit-learn==1.0.2) (2.2.0)\n",
      "Requirement already satisfied: numpy>=1.14.6 in /Users/tanutpayatsuporn/opt/anaconda3/lib/python3.9/site-packages (from scikit-learn==1.0.2) (1.21.5)\n",
      "Requirement already satisfied: numpy==1.21.5 in /Users/tanutpayatsuporn/opt/anaconda3/lib/python3.9/site-packages (1.21.5)\n"
     ]
    }
   ],
   "source": [
    "!pip install --upgrade scikit-learn==1.0.2\n",
    "!pip install --upgrade numpy==1.21.5"
   ]
  },
  {
   "cell_type": "code",
   "execution_count": 2,
   "metadata": {
    "id": "0gmoyL_xjB11"
   },
   "outputs": [],
   "source": [
    "import time\n",
    "import datetime\n",
    "import numpy as np\n",
    "import pandas as pd\n",
    "import matplotlib.pyplot as plt\n",
    "plt.style.use('seaborn')\n",
    "\n",
    "# Load dataset\n",
    "from sklearn.datasets import load_iris\n",
    "iris = load_iris()\n",
    "iris_df =  pd.DataFrame(iris.data, columns=iris.feature_names)\n",
    "iris_df['target'] = iris.target\n",
    "iris_df['target_names'] = [iris.target_names[t] for t in iris.target]\n",
    "target_col = 'target'\n",
    "feature_col = iris.feature_names"
   ]
  },
  {
   "cell_type": "code",
   "execution_count": 3,
   "metadata": {
    "colab": {
     "base_uri": "https://localhost:8080/",
     "height": 206
    },
    "id": "JqsIqge2pZKu",
    "outputId": "4ea275a6-3ebd-4036-9b7f-6e230f1316fd"
   },
   "outputs": [
    {
     "data": {
      "text/html": [
       "<div>\n",
       "<style scoped>\n",
       "    .dataframe tbody tr th:only-of-type {\n",
       "        vertical-align: middle;\n",
       "    }\n",
       "\n",
       "    .dataframe tbody tr th {\n",
       "        vertical-align: top;\n",
       "    }\n",
       "\n",
       "    .dataframe thead th {\n",
       "        text-align: right;\n",
       "    }\n",
       "</style>\n",
       "<table border=\"1\" class=\"dataframe\">\n",
       "  <thead>\n",
       "    <tr style=\"text-align: right;\">\n",
       "      <th></th>\n",
       "      <th>sepal length (cm)</th>\n",
       "      <th>sepal width (cm)</th>\n",
       "      <th>petal length (cm)</th>\n",
       "      <th>petal width (cm)</th>\n",
       "      <th>target</th>\n",
       "      <th>target_names</th>\n",
       "    </tr>\n",
       "  </thead>\n",
       "  <tbody>\n",
       "    <tr>\n",
       "      <th>0</th>\n",
       "      <td>5.1</td>\n",
       "      <td>3.5</td>\n",
       "      <td>1.4</td>\n",
       "      <td>0.2</td>\n",
       "      <td>0</td>\n",
       "      <td>setosa</td>\n",
       "    </tr>\n",
       "    <tr>\n",
       "      <th>1</th>\n",
       "      <td>4.9</td>\n",
       "      <td>3.0</td>\n",
       "      <td>1.4</td>\n",
       "      <td>0.2</td>\n",
       "      <td>0</td>\n",
       "      <td>setosa</td>\n",
       "    </tr>\n",
       "    <tr>\n",
       "      <th>2</th>\n",
       "      <td>4.7</td>\n",
       "      <td>3.2</td>\n",
       "      <td>1.3</td>\n",
       "      <td>0.2</td>\n",
       "      <td>0</td>\n",
       "      <td>setosa</td>\n",
       "    </tr>\n",
       "    <tr>\n",
       "      <th>3</th>\n",
       "      <td>4.6</td>\n",
       "      <td>3.1</td>\n",
       "      <td>1.5</td>\n",
       "      <td>0.2</td>\n",
       "      <td>0</td>\n",
       "      <td>setosa</td>\n",
       "    </tr>\n",
       "    <tr>\n",
       "      <th>4</th>\n",
       "      <td>5.0</td>\n",
       "      <td>3.6</td>\n",
       "      <td>1.4</td>\n",
       "      <td>0.2</td>\n",
       "      <td>0</td>\n",
       "      <td>setosa</td>\n",
       "    </tr>\n",
       "  </tbody>\n",
       "</table>\n",
       "</div>"
      ],
      "text/plain": [
       "   sepal length (cm)  sepal width (cm)  petal length (cm)  petal width (cm)  \\\n",
       "0                5.1               3.5                1.4               0.2   \n",
       "1                4.9               3.0                1.4               0.2   \n",
       "2                4.7               3.2                1.3               0.2   \n",
       "3                4.6               3.1                1.5               0.2   \n",
       "4                5.0               3.6                1.4               0.2   \n",
       "\n",
       "   target target_names  \n",
       "0       0       setosa  \n",
       "1       0       setosa  \n",
       "2       0       setosa  \n",
       "3       0       setosa  \n",
       "4       0       setosa  "
      ]
     },
     "execution_count": 3,
     "metadata": {},
     "output_type": "execute_result"
    }
   ],
   "source": [
    "iris_df.head()"
   ]
  },
  {
   "cell_type": "markdown",
   "metadata": {
    "id": "mCptmMCvcq3v"
   },
   "source": [
    "<u>**Data Set Characteristics**</u>\n",
    "\n",
    "**Number of Instances**: 150 (50 in each of three classes)  \n",
    "**Number of Attributes**: 4 numeric, predictive attributes and the class  \n",
    "\n",
    "<u>**Attribute Information**</u>\n",
    "- sepal length in cm  \n",
    "- sepal width in cm  \n",
    "- petal length in cm  \n",
    "- petal width in cm  \n",
    "- class:  \n",
    "  - Iris-Setosa  \n",
    "  - Iris-Versicolour  \n",
    "  - Iris-Virginica  \n",
    "\n",
    "<u>**Summary Statistics**</u>\n",
    "\n",
    "| Features | Min | Max | Mean | SD | Class Correlation |\n",
    "|-:|-:|-:|-:|-:|-:|\n",
    "| sepal length | 4.3 | 7.9 | 5.84 | 0.83 | 0.7826 |\n",
    "| sepal width | 2.0 | 4.4 | 3.05 | 0.43 | -0.4194 |\n",
    "| petal length | 1.0 | 6.9 | 3.76 | 1.76 | 0.9490 (high!) |\n",
    "| petal width | 0.1 | 2.5 | 1.20 | 0.76 | 0.9565 (high!) |\n",
    "\n",
    "**Missing Attribute Values**: None  \n",
    "**Class Distribution**: 33.3% for each of 3 classes.  \n",
    "**Creator**: R.A. Fisher  \n",
    "**Donor**: Michael Marshall (MARSHALL%PLU@io.arc.nasa.gov)  \n",
    "**Date**: July, 1988  \n",
    "\n",
    "The famous Iris database, first used by Sir R.A. Fisher. The dataset is taken\n",
    "from Fisher's paper. Note that it's the same as in R, but not as in the UCI\n",
    "Machine Learning Repository, which has two wrong data points.  \n",
    "\n",
    "This is perhaps the best known database to be found in the\n",
    "pattern recognition literature.  Fisher's paper is a classic in the field and\n",
    "is referenced frequently to this day.  (See Duda & Hart, for example.)  The\n",
    "data set contains 3 classes of 50 instances each, where each class refers to a\n",
    "type of iris plant.  One class is linearly separable from the other 2; the\n",
    "latter are NOT linearly separable from each other.  \n",
    "\n",
    "**References**\n",
    "- Fisher, R.A. \"The use of multiple measurements in taxonomic problems\"\n",
    "  Annual Eugenics, 7, Part II, 179-188 (1936); also in \"Contributions to\n",
    "  Mathematical Statistics\" (John Wiley, NY, 1950).\n",
    "- Duda, R.O., & Hart, P.E. (1973) Pattern Classification and Scene Analysis.\n",
    "  (Q327.D83) John Wiley & Sons.  ISBN 0-471-22361-1.  See page 218.\n",
    "- Dasarathy, B.V. (1980) \"Nosing Around the Neighborhood: A New System\n",
    "  Structure and Classification Rule for Recognition in Partially Exposed\n",
    "  Environments\".  IEEE Transactions on Pattern Analysis and Machine\n",
    "  Intelligence, Vol. PAMI-2, No. 1, 67-71.\n",
    "- Gates, G.W. (1972) \"The Reduced Nearest Neighbor Rule\".  IEEE Transactions\n",
    "  on Information Theory, May 1972, 431-433.\n",
    "- See also: 1988 MLC Proceedings, 54-64.  Cheeseman et al\"s AUTOCLASS II\n",
    "  conceptual clustering system finds 3 classes in the data.\n",
    "- Many, many more ..."
   ]
  },
  {
   "cell_type": "code",
   "execution_count": 4,
   "metadata": {
    "id": "q7h0AeXWrEF6"
   },
   "outputs": [],
   "source": [
    "from sklearn.model_selection import train_test_split\n",
    "\n",
    "X = iris_df[feature_col]\n",
    "y = iris_df[target_col]\n",
    "\n",
    "X_train, X_test, y_train, y_test = train_test_split(X, y, stratify=y, test_size=0.30, random_state=30)"
   ]
  },
  {
   "cell_type": "markdown",
   "metadata": {
    "id": "FDubfLPmq3E3"
   },
   "source": [
    "# **2. K-Nearest Neighbors**"
   ]
  },
  {
   "cell_type": "markdown",
   "metadata": {
    "id": "8TD4KhMda1kc"
   },
   "source": [
    "For Classification: https://scikit-learn.org/stable/modules/generated/sklearn.neighbors.KNeighborsClassifier.html  \n",
    "For Regression: https://scikit-learn.org/stable/modules/generated/sklearn.neighbors.KNeighborsRegressor.html  "
   ]
  },
  {
   "cell_type": "code",
   "execution_count": 5,
   "metadata": {
    "id": "VE-SheNMpZFx"
   },
   "outputs": [],
   "source": [
    "from sklearn.neighbors import KNeighborsClassifier"
   ]
  },
  {
   "cell_type": "markdown",
   "metadata": {
    "id": "atKKHdFJtT68"
   },
   "source": [
    "**Suggest Parameters**  \n",
    "\n",
    "* **n_neighbors**: 4\n",
    "* **weights**: distance"
   ]
  },
  {
   "cell_type": "code",
   "execution_count": 6,
   "metadata": {
    "colab": {
     "base_uri": "https://localhost:8080/"
    },
    "id": "Ti4QPqsMxPFP",
    "outputId": "6940e6af-607f-4bbe-e70b-566474a73417"
   },
   "outputs": [
    {
     "data": {
      "text/plain": [
       "KNeighborsClassifier(weights='distance')"
      ]
     },
     "execution_count": 6,
     "metadata": {},
     "output_type": "execute_result"
    }
   ],
   "source": [
    "n_neighbors = 5 #@param {type:\"slider\", min:1, max:10, step:1}\n",
    "weights = 'distance'  #@param ['uniform', 'distance']\n",
    "\n",
    "knn = KNeighborsClassifier(\n",
    "    n_neighbors=n_neighbors,\n",
    "    weights=weights,\n",
    ")\n",
    "\n",
    "knn.fit(X_train, y_train)"
   ]
  },
  {
   "cell_type": "code",
   "execution_count": 7,
   "metadata": {
    "id": "b8UWKO1fx6X-"
   },
   "outputs": [],
   "source": [
    "# Predict as Class\n",
    "train_predict = knn.predict(X_train)\n",
    "test_predict = knn.predict(X_test)\n",
    "\n",
    "# Predict as Probability\n",
    "train_predict_prob = knn.predict_proba(X_train)"
   ]
  },
  {
   "cell_type": "code",
   "execution_count": 8,
   "metadata": {
    "colab": {
     "base_uri": "https://localhost:8080/"
    },
    "id": "xRPsnYPkx92C",
    "outputId": "26a04ab8-c054-448d-d313-6bb1a9346e98"
   },
   "outputs": [
    {
     "name": "stdout",
     "output_type": "stream",
     "text": [
      "[0 1 1 2 2 1 2 2 2 1]\n",
      "[[1. 0. 0.]\n",
      " [0. 1. 0.]\n",
      " [0. 1. 0.]\n",
      " [0. 0. 1.]\n",
      " [0. 0. 1.]\n",
      " [0. 1. 0.]\n",
      " [0. 0. 1.]\n",
      " [0. 0. 1.]\n",
      " [0. 0. 1.]\n",
      " [0. 1. 0.]]\n"
     ]
    }
   ],
   "source": [
    "# Show first 10 prediction\n",
    "print(train_predict[:10])\n",
    "\n",
    "# Probability of 0/1\n",
    "print(train_predict_prob[:10])"
   ]
  },
  {
   "cell_type": "code",
   "execution_count": 9,
   "metadata": {
    "colab": {
     "base_uri": "https://localhost:8080/"
    },
    "id": "GNicAJHMyAXc",
    "outputId": "15605cec-e77e-4660-aa0e-ae926df3d70c"
   },
   "outputs": [
    {
     "data": {
      "text/plain": [
       "[0, 1, 1, 2, 2, 1, 2, 2, 2, 1]"
      ]
     },
     "execution_count": 9,
     "metadata": {},
     "output_type": "execute_result"
    }
   ],
   "source": [
    "# Actual Target\n",
    "y_train[:10].tolist()"
   ]
  },
  {
   "cell_type": "code",
   "execution_count": 10,
   "metadata": {
    "colab": {
     "base_uri": "https://localhost:8080/"
    },
    "id": "vFeAMldJy64z",
    "outputId": "9218a3f0-b823-4364-9b22-68b3b7aac4d8"
   },
   "outputs": [
    {
     "data": {
      "text/plain": [
       "array([[15,  0],\n",
       "       [ 0, 13]])"
      ]
     },
     "execution_count": 10,
     "metadata": {},
     "output_type": "execute_result"
    }
   ],
   "source": [
    "from sklearn.metrics import confusion_matrix\n",
    "\n",
    "confusion_matrix(y_test, test_predict, labels=[0, 1])"
   ]
  },
  {
   "cell_type": "code",
   "execution_count": 11,
   "metadata": {
    "colab": {
     "base_uri": "https://localhost:8080/"
    },
    "id": "714g8NA6y2Cp",
    "outputId": "4af8788a-c6e0-494a-9b04-db937704911b"
   },
   "outputs": [
    {
     "name": "stdout",
     "output_type": "stream",
     "text": [
      "              precision    recall  f1-score   support\n",
      "\n",
      "           0     1.0000    1.0000    1.0000        15\n",
      "           1     0.9286    0.8667    0.8966        15\n",
      "           2     0.8750    0.9333    0.9032        15\n",
      "\n",
      "    accuracy                         0.9333        45\n",
      "   macro avg     0.9345    0.9333    0.9333        45\n",
      "weighted avg     0.9345    0.9333    0.9333        45\n",
      "\n"
     ]
    }
   ],
   "source": [
    "from sklearn.metrics import classification_report\n",
    "\n",
    "print(classification_report(y_test, test_predict , digits=4))"
   ]
  },
  {
   "cell_type": "markdown",
   "metadata": {
    "id": "LPmiKU2j8Myk"
   },
   "source": [
    "# **3. Visualization**"
   ]
  },
  {
   "cell_type": "markdown",
   "metadata": {
    "id": "PAz5Nr2hbEKy"
   },
   "source": [
    "Adapt from: https://scikit-learn.org/stable/auto_examples/neighbors/plot_classification.html"
   ]
  },
  {
   "cell_type": "code",
   "execution_count": 12,
   "metadata": {
    "colab": {
     "base_uri": "https://localhost:8080/",
     "height": 621
    },
    "id": "NlUPA3KgyyGf",
    "outputId": "b02febb7-280d-4438-b12c-7f799cd25afd"
   },
   "outputs": [
    {
     "name": "stderr",
     "output_type": "stream",
     "text": [
      "/Users/tanutpayatsuporn/opt/anaconda3/lib/python3.9/site-packages/sklearn/base.py:450: UserWarning: X does not have valid feature names, but KNeighborsClassifier was fitted with feature names\n",
      "  warnings.warn(\n",
      "/var/folders/tv/k0fynw6n6nx4hvw_0rc226m40000gn/T/ipykernel_72792/3477777560.py:31: MatplotlibDeprecationWarning: Auto-removal of grids by pcolor() and pcolormesh() is deprecated since 3.5 and will be removed two minor releases later; please call grid(False) first.\n",
      "  plt.pcolormesh(xx, yy, Z, cmap=cmap_light)\n"
     ]
    },
    {
     "data": {
      "image/png": "[encoded data removed]",
      "text/plain": [
       "<Figure size 640x640 with 1 Axes>"
      ]
     },
     "metadata": {},
     "output_type": "display_data"
    }
   ],
   "source": [
    "#@markdown # **Select parameters to plot**\n",
    "#@markdown **(On simplyfied model for visualization - 2 variables)**\n",
    "n_neighbors = 7 #@param {type:\"slider\", min:1, max:10, step:1}\n",
    "weights = 'distance'  #@param ['uniform', 'distance']\n",
    "x_label = 'sepal length (cm)' #@param ['sepal length (cm)', 'sepal width (cm)', 'petal length (cm)', 'petal width (cm)']\n",
    "y_label = 'sepal width (cm)' #@param ['sepal length (cm)', 'sepal width (cm)', 'petal length (cm)', 'petal width (cm)']\n",
    "\n",
    "x_idx = iris_df.columns.to_list().index(x_label)\n",
    "y_idx = iris_df.columns.to_list().index(y_label) \n",
    "\n",
    "from matplotlib import cm\n",
    "from matplotlib.colors import ListedColormap\n",
    "cmap_val = np.linspace(0.0, 1.0, 20)\n",
    "cmap_light = ListedColormap(cm.get_cmap(plt.get_cmap('tab20'))(cmap_val)[1:7:2])\n",
    "cmap_bold = ListedColormap(cm.get_cmap(plt.get_cmap('tab20'))(cmap_val)[:6:2])\n",
    "h = .02  # step size in the mesh\n",
    "\n",
    "model = KNeighborsClassifier(n_neighbors=n_neighbors, weights=weights)\n",
    "model.fit(iris_df.iloc[:, [x_idx, y_idx]], iris_df[target_col])\n",
    "x_min, x_max = iris_df.iloc[:, x_idx].min() - 1, iris_df.iloc[:, x_idx].max() + 1\n",
    "y_min, y_max = iris_df.iloc[:, y_idx].min() - 1, iris_df.iloc[:, y_idx].max() + 1\n",
    "xx, yy = np.meshgrid(\n",
    "  np.arange(x_min, x_max, h),\n",
    "  np.arange(y_min, y_max, h)\n",
    ")\n",
    "Z = model.predict(np.c_[xx.ravel(), yy.ravel()])\n",
    "\n",
    "# Put the result into a color plot\n",
    "Z = Z.reshape(xx.shape)\n",
    "plt.figure(figsize=(8, 8), dpi=80)\n",
    "plt.pcolormesh(xx, yy, Z, cmap=cmap_light)\n",
    "\n",
    "# Plot also the training points\n",
    "plt.scatter(\n",
    "  iris_df.iloc[:, x_idx],\n",
    "  iris_df.iloc[:, y_idx],\n",
    "  c=iris_df[target_col],\n",
    "  cmap=cmap_bold,\n",
    "  edgecolor='k',\n",
    "  s=60\n",
    ")\n",
    "plt.xlabel(x_label)\n",
    "plt.xlim(xx.min(), xx.max())\n",
    "plt.ylabel(y_label)\n",
    "plt.ylim(yy.min(), yy.max())\n",
    "plt.title(\"3-Class classification (k = %i, weights = '%s')\"\n",
    "          % (n_neighbors, weights))\n",
    "plt.show()"
   ]
  },
  {
   "cell_type": "markdown",
   "metadata": {
    "id": "wGmGyTCNq5l-"
   },
   "source": [
    "# **4. Find the best K value**"
   ]
  },
  {
   "cell_type": "markdown",
   "metadata": {
    "id": "fcIhDcwBaiXf"
   },
   "source": [
    "## 4.1 Grid Search"
   ]
  },
  {
   "cell_type": "markdown",
   "metadata": {
    "id": "HhUu-XMvawbs"
   },
   "source": [
    "https://scikit-learn.org/stable/modules/generated/sklearn.model_selection.GridSearchCV.html"
   ]
  },
  {
   "cell_type": "code",
   "execution_count": 13,
   "metadata": {
    "id": "NELOJyuGakdQ"
   },
   "outputs": [],
   "source": [
    "from sklearn.model_selection import GridSearchCV"
   ]
  },
  {
   "cell_type": "code",
   "execution_count": 14,
   "metadata": {
    "colab": {
     "base_uri": "https://localhost:8080/"
    },
    "id": "OjrAKBY8bSPo",
    "outputId": "bfed17f2-85bf-4cd0-9790-dd4d4e1343ce"
   },
   "outputs": [
    {
     "name": "stdout",
     "output_type": "stream",
     "text": [
      "Searching Time: 0:00:01.586741\n"
     ]
    }
   ],
   "source": [
    "grid_search = GridSearchCV(\n",
    "    estimator=KNeighborsClassifier(),\n",
    "    param_grid=dict(\n",
    "        n_neighbors=[1,2,3,4,5,6,7,8,9,10],\n",
    "        weights=['uniform', 'distance'],\n",
    "    ),\n",
    "    scoring='f1_weighted',\n",
    "    cv=5,\n",
    "    n_jobs=-1 # Parallel\n",
    ")\n",
    "\n",
    "grid_start_time = time.time()\n",
    "grid_search.fit(X_train, y_train)\n",
    "grid_end_time = time.time()\n",
    "print(f\"Searching Time: {datetime.timedelta(seconds=grid_end_time-grid_start_time)}\")"
   ]
  },
  {
   "cell_type": "code",
   "execution_count": 15,
   "metadata": {
    "colab": {
     "base_uri": "https://localhost:8080/",
     "height": 1000
    },
    "id": "0rL9fCEfckIA",
    "outputId": "25a8e6be-fe1b-4cb5-9e40-d4bd9562b8b4"
   },
   "outputs": [
    {
     "data": {
      "text/html": [
       "<div>\n",
       "<style scoped>\n",
       "    .dataframe tbody tr th:only-of-type {\n",
       "        vertical-align: middle;\n",
       "    }\n",
       "\n",
       "    .dataframe tbody tr th {\n",
       "        vertical-align: top;\n",
       "    }\n",
       "\n",
       "    .dataframe thead th {\n",
       "        text-align: right;\n",
       "    }\n",
       "</style>\n",
       "<table border=\"1\" class=\"dataframe\">\n",
       "  <thead>\n",
       "    <tr style=\"text-align: right;\">\n",
       "      <th></th>\n",
       "      <th>mean_fit_time</th>\n",
       "      <th>std_fit_time</th>\n",
       "      <th>mean_score_time</th>\n",
       "      <th>std_score_time</th>\n",
       "      <th>param_n_neighbors</th>\n",
       "      <th>param_weights</th>\n",
       "      <th>params</th>\n",
       "      <th>split0_test_score</th>\n",
       "      <th>split1_test_score</th>\n",
       "      <th>split2_test_score</th>\n",
       "      <th>split3_test_score</th>\n",
       "      <th>split4_test_score</th>\n",
       "      <th>mean_test_score</th>\n",
       "      <th>std_test_score</th>\n",
       "      <th>rank_test_score</th>\n",
       "    </tr>\n",
       "  </thead>\n",
       "  <tbody>\n",
       "    <tr>\n",
       "      <th>0</th>\n",
       "      <td>0.003086</td>\n",
       "      <td>0.002810</td>\n",
       "      <td>0.003442</td>\n",
       "      <td>0.002767</td>\n",
       "      <td>1</td>\n",
       "      <td>uniform</td>\n",
       "      <td>{'n_neighbors': 1, 'weights': 'uniform'}</td>\n",
       "      <td>0.904762</td>\n",
       "      <td>1.000000</td>\n",
       "      <td>1.0</td>\n",
       "      <td>0.952137</td>\n",
       "      <td>0.952137</td>\n",
       "      <td>0.961807</td>\n",
       "      <td>0.035661</td>\n",
       "      <td>13</td>\n",
       "    </tr>\n",
       "    <tr>\n",
       "      <th>1</th>\n",
       "      <td>0.001237</td>\n",
       "      <td>0.000586</td>\n",
       "      <td>0.001001</td>\n",
       "      <td>0.000097</td>\n",
       "      <td>1</td>\n",
       "      <td>distance</td>\n",
       "      <td>{'n_neighbors': 1, 'weights': 'distance'}</td>\n",
       "      <td>0.904762</td>\n",
       "      <td>1.000000</td>\n",
       "      <td>1.0</td>\n",
       "      <td>0.952137</td>\n",
       "      <td>0.952137</td>\n",
       "      <td>0.961807</td>\n",
       "      <td>0.035661</td>\n",
       "      <td>13</td>\n",
       "    </tr>\n",
       "    <tr>\n",
       "      <th>2</th>\n",
       "      <td>0.001044</td>\n",
       "      <td>0.000533</td>\n",
       "      <td>0.001306</td>\n",
       "      <td>0.000338</td>\n",
       "      <td>2</td>\n",
       "      <td>uniform</td>\n",
       "      <td>{'n_neighbors': 2, 'weights': 'uniform'}</td>\n",
       "      <td>0.904762</td>\n",
       "      <td>1.000000</td>\n",
       "      <td>1.0</td>\n",
       "      <td>0.952137</td>\n",
       "      <td>0.902778</td>\n",
       "      <td>0.951935</td>\n",
       "      <td>0.043040</td>\n",
       "      <td>20</td>\n",
       "    </tr>\n",
       "    <tr>\n",
       "      <th>3</th>\n",
       "      <td>0.001027</td>\n",
       "      <td>0.000314</td>\n",
       "      <td>0.002038</td>\n",
       "      <td>0.001590</td>\n",
       "      <td>2</td>\n",
       "      <td>distance</td>\n",
       "      <td>{'n_neighbors': 2, 'weights': 'distance'}</td>\n",
       "      <td>0.904762</td>\n",
       "      <td>1.000000</td>\n",
       "      <td>1.0</td>\n",
       "      <td>0.952137</td>\n",
       "      <td>0.952137</td>\n",
       "      <td>0.961807</td>\n",
       "      <td>0.035661</td>\n",
       "      <td>13</td>\n",
       "    </tr>\n",
       "    <tr>\n",
       "      <th>4</th>\n",
       "      <td>0.001010</td>\n",
       "      <td>0.000264</td>\n",
       "      <td>0.001271</td>\n",
       "      <td>0.000330</td>\n",
       "      <td>3</td>\n",
       "      <td>uniform</td>\n",
       "      <td>{'n_neighbors': 3, 'weights': 'uniform'}</td>\n",
       "      <td>0.952137</td>\n",
       "      <td>1.000000</td>\n",
       "      <td>1.0</td>\n",
       "      <td>0.952137</td>\n",
       "      <td>1.000000</td>\n",
       "      <td>0.980855</td>\n",
       "      <td>0.023448</td>\n",
       "      <td>1</td>\n",
       "    </tr>\n",
       "    <tr>\n",
       "      <th>5</th>\n",
       "      <td>0.002322</td>\n",
       "      <td>0.001413</td>\n",
       "      <td>0.001688</td>\n",
       "      <td>0.001084</td>\n",
       "      <td>3</td>\n",
       "      <td>distance</td>\n",
       "      <td>{'n_neighbors': 3, 'weights': 'distance'}</td>\n",
       "      <td>0.952137</td>\n",
       "      <td>1.000000</td>\n",
       "      <td>1.0</td>\n",
       "      <td>0.952137</td>\n",
       "      <td>1.000000</td>\n",
       "      <td>0.980855</td>\n",
       "      <td>0.023448</td>\n",
       "      <td>1</td>\n",
       "    </tr>\n",
       "    <tr>\n",
       "      <th>6</th>\n",
       "      <td>0.001764</td>\n",
       "      <td>0.000717</td>\n",
       "      <td>0.002552</td>\n",
       "      <td>0.001704</td>\n",
       "      <td>4</td>\n",
       "      <td>uniform</td>\n",
       "      <td>{'n_neighbors': 4, 'weights': 'uniform'}</td>\n",
       "      <td>0.904762</td>\n",
       "      <td>1.000000</td>\n",
       "      <td>1.0</td>\n",
       "      <td>0.952137</td>\n",
       "      <td>0.952137</td>\n",
       "      <td>0.961807</td>\n",
       "      <td>0.035661</td>\n",
       "      <td>13</td>\n",
       "    </tr>\n",
       "    <tr>\n",
       "      <th>7</th>\n",
       "      <td>0.001470</td>\n",
       "      <td>0.000661</td>\n",
       "      <td>0.001030</td>\n",
       "      <td>0.000087</td>\n",
       "      <td>4</td>\n",
       "      <td>distance</td>\n",
       "      <td>{'n_neighbors': 4, 'weights': 'distance'}</td>\n",
       "      <td>0.904762</td>\n",
       "      <td>1.000000</td>\n",
       "      <td>1.0</td>\n",
       "      <td>0.952137</td>\n",
       "      <td>0.952137</td>\n",
       "      <td>0.961807</td>\n",
       "      <td>0.035661</td>\n",
       "      <td>13</td>\n",
       "    </tr>\n",
       "    <tr>\n",
       "      <th>8</th>\n",
       "      <td>0.001756</td>\n",
       "      <td>0.000598</td>\n",
       "      <td>0.005597</td>\n",
       "      <td>0.004795</td>\n",
       "      <td>5</td>\n",
       "      <td>uniform</td>\n",
       "      <td>{'n_neighbors': 5, 'weights': 'uniform'}</td>\n",
       "      <td>0.952137</td>\n",
       "      <td>0.952137</td>\n",
       "      <td>1.0</td>\n",
       "      <td>0.952137</td>\n",
       "      <td>0.952137</td>\n",
       "      <td>0.961709</td>\n",
       "      <td>0.019145</td>\n",
       "      <td>18</td>\n",
       "    </tr>\n",
       "    <tr>\n",
       "      <th>9</th>\n",
       "      <td>0.001768</td>\n",
       "      <td>0.000852</td>\n",
       "      <td>0.003005</td>\n",
       "      <td>0.002502</td>\n",
       "      <td>5</td>\n",
       "      <td>distance</td>\n",
       "      <td>{'n_neighbors': 5, 'weights': 'distance'}</td>\n",
       "      <td>0.952137</td>\n",
       "      <td>1.000000</td>\n",
       "      <td>1.0</td>\n",
       "      <td>0.952137</td>\n",
       "      <td>0.952137</td>\n",
       "      <td>0.971282</td>\n",
       "      <td>0.023448</td>\n",
       "      <td>11</td>\n",
       "    </tr>\n",
       "    <tr>\n",
       "      <th>10</th>\n",
       "      <td>0.001671</td>\n",
       "      <td>0.000654</td>\n",
       "      <td>0.002472</td>\n",
       "      <td>0.001004</td>\n",
       "      <td>6</td>\n",
       "      <td>uniform</td>\n",
       "      <td>{'n_neighbors': 6, 'weights': 'uniform'}</td>\n",
       "      <td>0.904762</td>\n",
       "      <td>1.000000</td>\n",
       "      <td>1.0</td>\n",
       "      <td>1.000000</td>\n",
       "      <td>0.902778</td>\n",
       "      <td>0.961508</td>\n",
       "      <td>0.047147</td>\n",
       "      <td>19</td>\n",
       "    </tr>\n",
       "    <tr>\n",
       "      <th>11</th>\n",
       "      <td>0.000973</td>\n",
       "      <td>0.000482</td>\n",
       "      <td>0.001998</td>\n",
       "      <td>0.001600</td>\n",
       "      <td>6</td>\n",
       "      <td>distance</td>\n",
       "      <td>{'n_neighbors': 6, 'weights': 'distance'}</td>\n",
       "      <td>0.952137</td>\n",
       "      <td>1.000000</td>\n",
       "      <td>1.0</td>\n",
       "      <td>0.952137</td>\n",
       "      <td>0.952137</td>\n",
       "      <td>0.971282</td>\n",
       "      <td>0.023448</td>\n",
       "      <td>11</td>\n",
       "    </tr>\n",
       "    <tr>\n",
       "      <th>12</th>\n",
       "      <td>0.001334</td>\n",
       "      <td>0.001254</td>\n",
       "      <td>0.001078</td>\n",
       "      <td>0.000096</td>\n",
       "      <td>7</td>\n",
       "      <td>uniform</td>\n",
       "      <td>{'n_neighbors': 7, 'weights': 'uniform'}</td>\n",
       "      <td>0.952137</td>\n",
       "      <td>1.000000</td>\n",
       "      <td>1.0</td>\n",
       "      <td>0.952137</td>\n",
       "      <td>1.000000</td>\n",
       "      <td>0.980855</td>\n",
       "      <td>0.023448</td>\n",
       "      <td>1</td>\n",
       "    </tr>\n",
       "    <tr>\n",
       "      <th>13</th>\n",
       "      <td>0.000651</td>\n",
       "      <td>0.000073</td>\n",
       "      <td>0.000913</td>\n",
       "      <td>0.000145</td>\n",
       "      <td>7</td>\n",
       "      <td>distance</td>\n",
       "      <td>{'n_neighbors': 7, 'weights': 'distance'}</td>\n",
       "      <td>0.952137</td>\n",
       "      <td>1.000000</td>\n",
       "      <td>1.0</td>\n",
       "      <td>0.952137</td>\n",
       "      <td>1.000000</td>\n",
       "      <td>0.980855</td>\n",
       "      <td>0.023448</td>\n",
       "      <td>1</td>\n",
       "    </tr>\n",
       "    <tr>\n",
       "      <th>14</th>\n",
       "      <td>0.000858</td>\n",
       "      <td>0.000359</td>\n",
       "      <td>0.001032</td>\n",
       "      <td>0.000065</td>\n",
       "      <td>8</td>\n",
       "      <td>uniform</td>\n",
       "      <td>{'n_neighbors': 8, 'weights': 'uniform'}</td>\n",
       "      <td>0.904762</td>\n",
       "      <td>1.000000</td>\n",
       "      <td>1.0</td>\n",
       "      <td>0.952137</td>\n",
       "      <td>1.000000</td>\n",
       "      <td>0.971380</td>\n",
       "      <td>0.038120</td>\n",
       "      <td>10</td>\n",
       "    </tr>\n",
       "    <tr>\n",
       "      <th>15</th>\n",
       "      <td>0.000790</td>\n",
       "      <td>0.000057</td>\n",
       "      <td>0.000903</td>\n",
       "      <td>0.000011</td>\n",
       "      <td>8</td>\n",
       "      <td>distance</td>\n",
       "      <td>{'n_neighbors': 8, 'weights': 'distance'}</td>\n",
       "      <td>0.952137</td>\n",
       "      <td>1.000000</td>\n",
       "      <td>1.0</td>\n",
       "      <td>0.952137</td>\n",
       "      <td>1.000000</td>\n",
       "      <td>0.980855</td>\n",
       "      <td>0.023448</td>\n",
       "      <td>1</td>\n",
       "    </tr>\n",
       "    <tr>\n",
       "      <th>16</th>\n",
       "      <td>0.000795</td>\n",
       "      <td>0.000186</td>\n",
       "      <td>0.001028</td>\n",
       "      <td>0.000045</td>\n",
       "      <td>9</td>\n",
       "      <td>uniform</td>\n",
       "      <td>{'n_neighbors': 9, 'weights': 'uniform'}</td>\n",
       "      <td>0.952137</td>\n",
       "      <td>1.000000</td>\n",
       "      <td>1.0</td>\n",
       "      <td>0.952137</td>\n",
       "      <td>1.000000</td>\n",
       "      <td>0.980855</td>\n",
       "      <td>0.023448</td>\n",
       "      <td>1</td>\n",
       "    </tr>\n",
       "    <tr>\n",
       "      <th>17</th>\n",
       "      <td>0.000817</td>\n",
       "      <td>0.000166</td>\n",
       "      <td>0.000910</td>\n",
       "      <td>0.000020</td>\n",
       "      <td>9</td>\n",
       "      <td>distance</td>\n",
       "      <td>{'n_neighbors': 9, 'weights': 'distance'}</td>\n",
       "      <td>0.952137</td>\n",
       "      <td>1.000000</td>\n",
       "      <td>1.0</td>\n",
       "      <td>0.952137</td>\n",
       "      <td>1.000000</td>\n",
       "      <td>0.980855</td>\n",
       "      <td>0.023448</td>\n",
       "      <td>1</td>\n",
       "    </tr>\n",
       "    <tr>\n",
       "      <th>18</th>\n",
       "      <td>0.000767</td>\n",
       "      <td>0.000034</td>\n",
       "      <td>0.001086</td>\n",
       "      <td>0.000022</td>\n",
       "      <td>10</td>\n",
       "      <td>uniform</td>\n",
       "      <td>{'n_neighbors': 10, 'weights': 'uniform'}</td>\n",
       "      <td>0.952137</td>\n",
       "      <td>1.000000</td>\n",
       "      <td>1.0</td>\n",
       "      <td>0.952137</td>\n",
       "      <td>1.000000</td>\n",
       "      <td>0.980855</td>\n",
       "      <td>0.023448</td>\n",
       "      <td>1</td>\n",
       "    </tr>\n",
       "    <tr>\n",
       "      <th>19</th>\n",
       "      <td>0.000732</td>\n",
       "      <td>0.000094</td>\n",
       "      <td>0.001019</td>\n",
       "      <td>0.000261</td>\n",
       "      <td>10</td>\n",
       "      <td>distance</td>\n",
       "      <td>{'n_neighbors': 10, 'weights': 'distance'}</td>\n",
       "      <td>0.952137</td>\n",
       "      <td>1.000000</td>\n",
       "      <td>1.0</td>\n",
       "      <td>0.952137</td>\n",
       "      <td>1.000000</td>\n",
       "      <td>0.980855</td>\n",
       "      <td>0.023448</td>\n",
       "      <td>1</td>\n",
       "    </tr>\n",
       "  </tbody>\n",
       "</table>\n",
       "</div>"
      ],
      "text/plain": [
       "    mean_fit_time  std_fit_time  mean_score_time  std_score_time  \\\n",
       "0        0.003086      0.002810         0.003442        0.002767   \n",
       "1        0.001237      0.000586         0.001001        0.000097   \n",
       "2        0.001044      0.000533         0.001306        0.000338   \n",
       "3        0.001027      0.000314         0.002038        0.001590   \n",
       "4        0.001010      0.000264         0.001271        0.000330   \n",
       "5        0.002322      0.001413         0.001688        0.001084   \n",
       "6        0.001764      0.000717         0.002552        0.001704   \n",
       "7        0.001470      0.000661         0.001030        0.000087   \n",
       "8        0.001756      0.000598         0.005597        0.004795   \n",
       "9        0.001768      0.000852         0.003005        0.002502   \n",
       "10       0.001671      0.000654         0.002472        0.001004   \n",
       "11       0.000973      0.000482         0.001998        0.001600   \n",
       "12       0.001334      0.001254         0.001078        0.000096   \n",
       "13       0.000651      0.000073         0.000913        0.000145   \n",
       "14       0.000858      0.000359         0.001032        0.000065   \n",
       "15       0.000790      0.000057         0.000903        0.000011   \n",
       "16       0.000795      0.000186         0.001028        0.000045   \n",
       "17       0.000817      0.000166         0.000910        0.000020   \n",
       "18       0.000767      0.000034         0.001086        0.000022   \n",
       "19       0.000732      0.000094         0.001019        0.000261   \n",
       "\n",
       "   param_n_neighbors param_weights  \\\n",
       "0                  1       uniform   \n",
       "1                  1      distance   \n",
       "2                  2       uniform   \n",
       "3                  2      distance   \n",
       "4                  3       uniform   \n",
       "5                  3      distance   \n",
       "6                  4       uniform   \n",
       "7                  4      distance   \n",
       "8                  5       uniform   \n",
       "9                  5      distance   \n",
       "10                 6       uniform   \n",
       "11                 6      distance   \n",
       "12                 7       uniform   \n",
       "13                 7      distance   \n",
       "14                 8       uniform   \n",
       "15                 8      distance   \n",
       "16                 9       uniform   \n",
       "17                 9      distance   \n",
       "18                10       uniform   \n",
       "19                10      distance   \n",
       "\n",
       "                                        params  split0_test_score  \\\n",
       "0     {'n_neighbors': 1, 'weights': 'uniform'}           0.904762   \n",
       "1    {'n_neighbors': 1, 'weights': 'distance'}           0.904762   \n",
       "2     {'n_neighbors': 2, 'weights': 'uniform'}           0.904762   \n",
       "3    {'n_neighbors': 2, 'weights': 'distance'}           0.904762   \n",
       "4     {'n_neighbors': 3, 'weights': 'uniform'}           0.952137   \n",
       "5    {'n_neighbors': 3, 'weights': 'distance'}           0.952137   \n",
       "6     {'n_neighbors': 4, 'weights': 'uniform'}           0.904762   \n",
       "7    {'n_neighbors': 4, 'weights': 'distance'}           0.904762   \n",
       "8     {'n_neighbors': 5, 'weights': 'uniform'}           0.952137   \n",
       "9    {'n_neighbors': 5, 'weights': 'distance'}           0.952137   \n",
       "10    {'n_neighbors': 6, 'weights': 'uniform'}           0.904762   \n",
       "11   {'n_neighbors': 6, 'weights': 'distance'}           0.952137   \n",
       "12    {'n_neighbors': 7, 'weights': 'uniform'}           0.952137   \n",
       "13   {'n_neighbors': 7, 'weights': 'distance'}           0.952137   \n",
       "14    {'n_neighbors': 8, 'weights': 'uniform'}           0.904762   \n",
       "15   {'n_neighbors': 8, 'weights': 'distance'}           0.952137   \n",
       "16    {'n_neighbors': 9, 'weights': 'uniform'}           0.952137   \n",
       "17   {'n_neighbors': 9, 'weights': 'distance'}           0.952137   \n",
       "18   {'n_neighbors': 10, 'weights': 'uniform'}           0.952137   \n",
       "19  {'n_neighbors': 10, 'weights': 'distance'}           0.952137   \n",
       "\n",
       "    split1_test_score  split2_test_score  split3_test_score  \\\n",
       "0            1.000000                1.0           0.952137   \n",
       "1            1.000000                1.0           0.952137   \n",
       "2            1.000000                1.0           0.952137   \n",
       "3            1.000000                1.0           0.952137   \n",
       "4            1.000000                1.0           0.952137   \n",
       "5            1.000000                1.0           0.952137   \n",
       "6            1.000000                1.0           0.952137   \n",
       "7            1.000000                1.0           0.952137   \n",
       "8            0.952137                1.0           0.952137   \n",
       "9            1.000000                1.0           0.952137   \n",
       "10           1.000000                1.0           1.000000   \n",
       "11           1.000000                1.0           0.952137   \n",
       "12           1.000000                1.0           0.952137   \n",
       "13           1.000000                1.0           0.952137   \n",
       "14           1.000000                1.0           0.952137   \n",
       "15           1.000000                1.0           0.952137   \n",
       "16           1.000000                1.0           0.952137   \n",
       "17           1.000000                1.0           0.952137   \n",
       "18           1.000000                1.0           0.952137   \n",
       "19           1.000000                1.0           0.952137   \n",
       "\n",
       "    split4_test_score  mean_test_score  std_test_score  rank_test_score  \n",
       "0            0.952137         0.961807        0.035661               13  \n",
       "1            0.952137         0.961807        0.035661               13  \n",
       "2            0.902778         0.951935        0.043040               20  \n",
       "3            0.952137         0.961807        0.035661               13  \n",
       "4            1.000000         0.980855        0.023448                1  \n",
       "5            1.000000         0.980855        0.023448                1  \n",
       "6            0.952137         0.961807        0.035661               13  \n",
       "7            0.952137         0.961807        0.035661               13  \n",
       "8            0.952137         0.961709        0.019145               18  \n",
       "9            0.952137         0.971282        0.023448               11  \n",
       "10           0.902778         0.961508        0.047147               19  \n",
       "11           0.952137         0.971282        0.023448               11  \n",
       "12           1.000000         0.980855        0.023448                1  \n",
       "13           1.000000         0.980855        0.023448                1  \n",
       "14           1.000000         0.971380        0.038120               10  \n",
       "15           1.000000         0.980855        0.023448                1  \n",
       "16           1.000000         0.980855        0.023448                1  \n",
       "17           1.000000         0.980855        0.023448                1  \n",
       "18           1.000000         0.980855        0.023448                1  \n",
       "19           1.000000         0.980855        0.023448                1  "
      ]
     },
     "execution_count": 15,
     "metadata": {},
     "output_type": "execute_result"
    }
   ],
   "source": [
    "# Get Searching Result\n",
    "grid_search_result = grid_search.cv_results_\n",
    "pd.DataFrame.from_dict(grid_search_result)"
   ]
  },
  {
   "cell_type": "code",
   "execution_count": 16,
   "metadata": {
    "id": "69NOmiKddFBM"
   },
   "outputs": [
    {
     "data": {
      "text/plain": [
       "KNeighborsClassifier(n_neighbors=3)"
      ]
     },
     "execution_count": 16,
     "metadata": {},
     "output_type": "execute_result"
    }
   ],
   "source": [
    "# Best Trained Model \n",
    "model = grid_search.best_estimator_\n",
    "model"
   ]
  },
  {
   "cell_type": "code",
   "execution_count": 17,
   "metadata": {
    "colab": {
     "base_uri": "https://localhost:8080/"
    },
    "id": "iB151LH7-Q2I",
    "outputId": "652d11db-057b-41f4-9a95-f61b8064328a"
   },
   "outputs": [
    {
     "data": {
      "text/plain": [
       "array([2, 0, 2, 1, 2, 0, 1, 0, 2, 2])"
      ]
     },
     "execution_count": 17,
     "metadata": {},
     "output_type": "execute_result"
    }
   ],
   "source": [
    "# Predict with the best model\n",
    "y_pred = model.predict(X_test)\n",
    "y_pred[:10]"
   ]
  },
  {
   "cell_type": "markdown",
   "metadata": {
    "id": "bCrpE4Tnammg"
   },
   "source": [
    "## 4.2 Randomized Search"
   ]
  },
  {
   "cell_type": "markdown",
   "metadata": {
    "id": "sxgSgkavax0Z"
   },
   "source": [
    "https://scikit-learn.org/stable/modules/generated/sklearn.model_selection.RandomizedSearchCV.html"
   ]
  },
  {
   "cell_type": "code",
   "execution_count": 18,
   "metadata": {
    "id": "fzfJ7zkHGOIs"
   },
   "outputs": [],
   "source": [
    "from sklearn.model_selection import RandomizedSearchCV"
   ]
  },
  {
   "cell_type": "code",
   "execution_count": 19,
   "metadata": {
    "colab": {
     "base_uri": "https://localhost:8080/"
    },
    "id": "a3nLZIcDbRyF",
    "outputId": "80909b3c-f29c-4bcf-8858-012797b23616"
   },
   "outputs": [
    {
     "name": "stdout",
     "output_type": "stream",
     "text": [
      "Searching Time: 0:00:00.053816\n"
     ]
    }
   ],
   "source": [
    "rand_search = RandomizedSearchCV(\n",
    "    estimator=KNeighborsClassifier(),\n",
    "    param_distributions=dict(\n",
    "        n_neighbors=[1,2,3,4,5,6,7,8,9,10],\n",
    "        weights=['uniform', 'distance'],\n",
    "    ),\n",
    "    scoring='f1_weighted',\n",
    "    cv=5,\n",
    "    n_jobs=-1\n",
    ")\n",
    "\n",
    "rand_start_time = time.time()\n",
    "rand_search.fit(X_train, y_train)\n",
    "rand_end_time = time.time()\n",
    "print(f\"Searching Time: {datetime.timedelta(seconds=rand_end_time-rand_start_time)}\")"
   ]
  },
  {
   "cell_type": "code",
   "execution_count": 20,
   "metadata": {
    "colab": {
     "base_uri": "https://localhost:8080/",
     "height": 947
    },
    "id": "gKl2ZW6DdbgF",
    "outputId": "06732c2d-1733-4b2b-984e-60a5be5cf32a"
   },
   "outputs": [
    {
     "data": {
      "text/html": [
       "<div>\n",
       "<style scoped>\n",
       "    .dataframe tbody tr th:only-of-type {\n",
       "        vertical-align: middle;\n",
       "    }\n",
       "\n",
       "    .dataframe tbody tr th {\n",
       "        vertical-align: top;\n",
       "    }\n",
       "\n",
       "    .dataframe thead th {\n",
       "        text-align: right;\n",
       "    }\n",
       "</style>\n",
       "<table border=\"1\" class=\"dataframe\">\n",
       "  <thead>\n",
       "    <tr style=\"text-align: right;\">\n",
       "      <th></th>\n",
       "      <th>mean_fit_time</th>\n",
       "      <th>std_fit_time</th>\n",
       "      <th>mean_score_time</th>\n",
       "      <th>std_score_time</th>\n",
       "      <th>param_weights</th>\n",
       "      <th>param_n_neighbors</th>\n",
       "      <th>params</th>\n",
       "      <th>split0_test_score</th>\n",
       "      <th>split1_test_score</th>\n",
       "      <th>split2_test_score</th>\n",
       "      <th>split3_test_score</th>\n",
       "      <th>split4_test_score</th>\n",
       "      <th>mean_test_score</th>\n",
       "      <th>std_test_score</th>\n",
       "      <th>rank_test_score</th>\n",
       "    </tr>\n",
       "  </thead>\n",
       "  <tbody>\n",
       "    <tr>\n",
       "      <th>0</th>\n",
       "      <td>0.001766</td>\n",
       "      <td>0.001767</td>\n",
       "      <td>0.004115</td>\n",
       "      <td>0.005892</td>\n",
       "      <td>uniform</td>\n",
       "      <td>2</td>\n",
       "      <td>{'weights': 'uniform', 'n_neighbors': 2}</td>\n",
       "      <td>0.904762</td>\n",
       "      <td>1.000000</td>\n",
       "      <td>1.0</td>\n",
       "      <td>0.952137</td>\n",
       "      <td>0.902778</td>\n",
       "      <td>0.951935</td>\n",
       "      <td>0.043040</td>\n",
       "      <td>10</td>\n",
       "    </tr>\n",
       "    <tr>\n",
       "      <th>1</th>\n",
       "      <td>0.002944</td>\n",
       "      <td>0.003494</td>\n",
       "      <td>0.010189</td>\n",
       "      <td>0.006350</td>\n",
       "      <td>uniform</td>\n",
       "      <td>5</td>\n",
       "      <td>{'weights': 'uniform', 'n_neighbors': 5}</td>\n",
       "      <td>0.952137</td>\n",
       "      <td>0.952137</td>\n",
       "      <td>1.0</td>\n",
       "      <td>0.952137</td>\n",
       "      <td>0.952137</td>\n",
       "      <td>0.961709</td>\n",
       "      <td>0.019145</td>\n",
       "      <td>8</td>\n",
       "    </tr>\n",
       "    <tr>\n",
       "      <th>2</th>\n",
       "      <td>0.002379</td>\n",
       "      <td>0.001950</td>\n",
       "      <td>0.001353</td>\n",
       "      <td>0.000188</td>\n",
       "      <td>uniform</td>\n",
       "      <td>3</td>\n",
       "      <td>{'weights': 'uniform', 'n_neighbors': 3}</td>\n",
       "      <td>0.952137</td>\n",
       "      <td>1.000000</td>\n",
       "      <td>1.0</td>\n",
       "      <td>0.952137</td>\n",
       "      <td>1.000000</td>\n",
       "      <td>0.980855</td>\n",
       "      <td>0.023448</td>\n",
       "      <td>1</td>\n",
       "    </tr>\n",
       "    <tr>\n",
       "      <th>3</th>\n",
       "      <td>0.001237</td>\n",
       "      <td>0.001010</td>\n",
       "      <td>0.001525</td>\n",
       "      <td>0.001096</td>\n",
       "      <td>distance</td>\n",
       "      <td>1</td>\n",
       "      <td>{'weights': 'distance', 'n_neighbors': 1}</td>\n",
       "      <td>0.904762</td>\n",
       "      <td>1.000000</td>\n",
       "      <td>1.0</td>\n",
       "      <td>0.952137</td>\n",
       "      <td>0.952137</td>\n",
       "      <td>0.961807</td>\n",
       "      <td>0.035661</td>\n",
       "      <td>6</td>\n",
       "    </tr>\n",
       "    <tr>\n",
       "      <th>4</th>\n",
       "      <td>0.001798</td>\n",
       "      <td>0.001372</td>\n",
       "      <td>0.001271</td>\n",
       "      <td>0.000411</td>\n",
       "      <td>uniform</td>\n",
       "      <td>6</td>\n",
       "      <td>{'weights': 'uniform', 'n_neighbors': 6}</td>\n",
       "      <td>0.904762</td>\n",
       "      <td>1.000000</td>\n",
       "      <td>1.0</td>\n",
       "      <td>1.000000</td>\n",
       "      <td>0.902778</td>\n",
       "      <td>0.961508</td>\n",
       "      <td>0.047147</td>\n",
       "      <td>9</td>\n",
       "    </tr>\n",
       "    <tr>\n",
       "      <th>5</th>\n",
       "      <td>0.000718</td>\n",
       "      <td>0.000088</td>\n",
       "      <td>0.001273</td>\n",
       "      <td>0.000484</td>\n",
       "      <td>uniform</td>\n",
       "      <td>9</td>\n",
       "      <td>{'weights': 'uniform', 'n_neighbors': 9}</td>\n",
       "      <td>0.952137</td>\n",
       "      <td>1.000000</td>\n",
       "      <td>1.0</td>\n",
       "      <td>0.952137</td>\n",
       "      <td>1.000000</td>\n",
       "      <td>0.980855</td>\n",
       "      <td>0.023448</td>\n",
       "      <td>1</td>\n",
       "    </tr>\n",
       "    <tr>\n",
       "      <th>6</th>\n",
       "      <td>0.000756</td>\n",
       "      <td>0.000170</td>\n",
       "      <td>0.000865</td>\n",
       "      <td>0.000064</td>\n",
       "      <td>distance</td>\n",
       "      <td>4</td>\n",
       "      <td>{'weights': 'distance', 'n_neighbors': 4}</td>\n",
       "      <td>0.904762</td>\n",
       "      <td>1.000000</td>\n",
       "      <td>1.0</td>\n",
       "      <td>0.952137</td>\n",
       "      <td>0.952137</td>\n",
       "      <td>0.961807</td>\n",
       "      <td>0.035661</td>\n",
       "      <td>6</td>\n",
       "    </tr>\n",
       "    <tr>\n",
       "      <th>7</th>\n",
       "      <td>0.000596</td>\n",
       "      <td>0.000055</td>\n",
       "      <td>0.000796</td>\n",
       "      <td>0.000038</td>\n",
       "      <td>distance</td>\n",
       "      <td>3</td>\n",
       "      <td>{'weights': 'distance', 'n_neighbors': 3}</td>\n",
       "      <td>0.952137</td>\n",
       "      <td>1.000000</td>\n",
       "      <td>1.0</td>\n",
       "      <td>0.952137</td>\n",
       "      <td>1.000000</td>\n",
       "      <td>0.980855</td>\n",
       "      <td>0.023448</td>\n",
       "      <td>1</td>\n",
       "    </tr>\n",
       "    <tr>\n",
       "      <th>8</th>\n",
       "      <td>0.000657</td>\n",
       "      <td>0.000100</td>\n",
       "      <td>0.001157</td>\n",
       "      <td>0.000299</td>\n",
       "      <td>uniform</td>\n",
       "      <td>10</td>\n",
       "      <td>{'weights': 'uniform', 'n_neighbors': 10}</td>\n",
       "      <td>0.952137</td>\n",
       "      <td>1.000000</td>\n",
       "      <td>1.0</td>\n",
       "      <td>0.952137</td>\n",
       "      <td>1.000000</td>\n",
       "      <td>0.980855</td>\n",
       "      <td>0.023448</td>\n",
       "      <td>1</td>\n",
       "    </tr>\n",
       "    <tr>\n",
       "      <th>9</th>\n",
       "      <td>0.000688</td>\n",
       "      <td>0.000103</td>\n",
       "      <td>0.000857</td>\n",
       "      <td>0.000047</td>\n",
       "      <td>distance</td>\n",
       "      <td>8</td>\n",
       "      <td>{'weights': 'distance', 'n_neighbors': 8}</td>\n",
       "      <td>0.952137</td>\n",
       "      <td>1.000000</td>\n",
       "      <td>1.0</td>\n",
       "      <td>0.952137</td>\n",
       "      <td>1.000000</td>\n",
       "      <td>0.980855</td>\n",
       "      <td>0.023448</td>\n",
       "      <td>1</td>\n",
       "    </tr>\n",
       "  </tbody>\n",
       "</table>\n",
       "</div>"
      ],
      "text/plain": [
       "   mean_fit_time  std_fit_time  mean_score_time  std_score_time param_weights  \\\n",
       "0       0.001766      0.001767         0.004115        0.005892       uniform   \n",
       "1       0.002944      0.003494         0.010189        0.006350       uniform   \n",
       "2       0.002379      0.001950         0.001353        0.000188       uniform   \n",
       "3       0.001237      0.001010         0.001525        0.001096      distance   \n",
       "4       0.001798      0.001372         0.001271        0.000411       uniform   \n",
       "5       0.000718      0.000088         0.001273        0.000484       uniform   \n",
       "6       0.000756      0.000170         0.000865        0.000064      distance   \n",
       "7       0.000596      0.000055         0.000796        0.000038      distance   \n",
       "8       0.000657      0.000100         0.001157        0.000299       uniform   \n",
       "9       0.000688      0.000103         0.000857        0.000047      distance   \n",
       "\n",
       "  param_n_neighbors                                     params  \\\n",
       "0                 2   {'weights': 'uniform', 'n_neighbors': 2}   \n",
       "1                 5   {'weights': 'uniform', 'n_neighbors': 5}   \n",
       "2                 3   {'weights': 'uniform', 'n_neighbors': 3}   \n",
       "3                 1  {'weights': 'distance', 'n_neighbors': 1}   \n",
       "4                 6   {'weights': 'uniform', 'n_neighbors': 6}   \n",
       "5                 9   {'weights': 'uniform', 'n_neighbors': 9}   \n",
       "6                 4  {'weights': 'distance', 'n_neighbors': 4}   \n",
       "7                 3  {'weights': 'distance', 'n_neighbors': 3}   \n",
       "8                10  {'weights': 'uniform', 'n_neighbors': 10}   \n",
       "9                 8  {'weights': 'distance', 'n_neighbors': 8}   \n",
       "\n",
       "   split0_test_score  split1_test_score  split2_test_score  split3_test_score  \\\n",
       "0           0.904762           1.000000                1.0           0.952137   \n",
       "1           0.952137           0.952137                1.0           0.952137   \n",
       "2           0.952137           1.000000                1.0           0.952137   \n",
       "3           0.904762           1.000000                1.0           0.952137   \n",
       "4           0.904762           1.000000                1.0           1.000000   \n",
       "5           0.952137           1.000000                1.0           0.952137   \n",
       "6           0.904762           1.000000                1.0           0.952137   \n",
       "7           0.952137           1.000000                1.0           0.952137   \n",
       "8           0.952137           1.000000                1.0           0.952137   \n",
       "9           0.952137           1.000000                1.0           0.952137   \n",
       "\n",
       "   split4_test_score  mean_test_score  std_test_score  rank_test_score  \n",
       "0           0.902778         0.951935        0.043040               10  \n",
       "1           0.952137         0.961709        0.019145                8  \n",
       "2           1.000000         0.980855        0.023448                1  \n",
       "3           0.952137         0.961807        0.035661                6  \n",
       "4           0.902778         0.961508        0.047147                9  \n",
       "5           1.000000         0.980855        0.023448                1  \n",
       "6           0.952137         0.961807        0.035661                6  \n",
       "7           1.000000         0.980855        0.023448                1  \n",
       "8           1.000000         0.980855        0.023448                1  \n",
       "9           1.000000         0.980855        0.023448                1  "
      ]
     },
     "execution_count": 20,
     "metadata": {},
     "output_type": "execute_result"
    }
   ],
   "source": [
    "# Get Searching Result\n",
    "rand_search_result = rand_search.cv_results_\n",
    "pd.DataFrame.from_dict(rand_search_result)"
   ]
  },
  {
   "cell_type": "code",
   "execution_count": 21,
   "metadata": {
    "id": "B1niOzfcdgEA"
   },
   "outputs": [],
   "source": [
    "# Best Trained Model \n",
    "model = rand_search.best_estimator_"
   ]
  },
  {
   "cell_type": "code",
   "execution_count": 22,
   "metadata": {
    "colab": {
     "base_uri": "https://localhost:8080/"
    },
    "id": "wtcV-W5z_w9z",
    "outputId": "b416877b-e410-4ef0-c8a6-ab113b21aaef"
   },
   "outputs": [
    {
     "data": {
      "text/plain": [
       "array([2, 0, 2, 1, 2, 0, 1, 0, 2, 2])"
      ]
     },
     "execution_count": 22,
     "metadata": {},
     "output_type": "execute_result"
    }
   ],
   "source": [
    "# Predict with the best model\n",
    "y_pred = model.predict(X_test)\n",
    "y_pred[:10]"
   ]
  }
 ],
 "metadata": {
  "colab": {
   "collapsed_sections": [],
   "name": "5_K_Nearest_Neighbors-v2.ipynb",
   "provenance": []
  },
  "kernelspec": {
   "display_name": "Python 3 (ipykernel)",
   "language": "python",
   "name": "python3"
  },
  "language_info": {
   "codemirror_mode": {
    "name": "ipython",
    "version": 3
   },
   "file_extension": ".py",
   "mimetype": "text/x-python",
   "name": "python",
   "nbconvert_exporter": "python",
   "pygments_lexer": "ipython3",
   "version": "3.9.12"
  }
 },
 "nbformat": 4,
 "nbformat_minor": 1
}
