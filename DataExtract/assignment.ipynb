{
 "cells": [
  {
   "cell_type": "markdown",
   "metadata": {},
   "source": [
    "# Assignment: Extracting Static WebPage\n",
    "\n",
    "Extract information about “วันพระ” for 3 years from:\n",
    "- https://www.myhora.com/ปฏิทิน/วันพระ-พ.ศ.2563.aspx\n",
    "- https://www.myhora.com/ปฏิทิน/วันพระ-พ.ศ.2564.aspx\n",
    "- https://www.myhora.com/ปฏิทิน/วันพระ-พ.ศ.2565.aspx\n"
   ]
  },
  {
   "cell_type": "markdown",
   "metadata": {},
   "source": [
    "Note that you can use dateparse package to parse Thai date.  First, we will have to install the package, this is for Google Colab users.  Otherwise, installing via command line is recommended (pip or conda)."
   ]
  },
  {
   "cell_type": "code",
   "execution_count": 1,
   "metadata": {
    "scrolled": true
   },
   "outputs": [
    {
     "name": "stdout",
     "output_type": "stream",
     "text": [
      "Requirement already satisfied: dateparser in /Users/tanutpayatsuporn/opt/anaconda3/lib/python3.9/site-packages (1.1.2)\r\n",
      "Requirement already satisfied: regex!=2019.02.19,!=2021.8.27,<2022.3.15 in /Users/tanutpayatsuporn/opt/anaconda3/lib/python3.9/site-packages (from dateparser) (2022.3.2)\r\n",
      "Requirement already satisfied: python-dateutil in /Users/tanutpayatsuporn/opt/anaconda3/lib/python3.9/site-packages (from dateparser) (2.8.2)\r\n",
      "Requirement already satisfied: tzlocal in /Users/tanutpayatsuporn/opt/anaconda3/lib/python3.9/site-packages (from dateparser) (4.2)\r\n",
      "Requirement already satisfied: pytz in /Users/tanutpayatsuporn/opt/anaconda3/lib/python3.9/site-packages (from dateparser) (2021.3)\r\n",
      "Requirement already satisfied: six>=1.5 in /Users/tanutpayatsuporn/opt/anaconda3/lib/python3.9/site-packages (from python-dateutil->dateparser) (1.16.0)\r\n",
      "Requirement already satisfied: pytz-deprecation-shim in /Users/tanutpayatsuporn/opt/anaconda3/lib/python3.9/site-packages (from tzlocal->dateparser) (0.1.0.post0)\r\n",
      "Requirement already satisfied: tzdata in /Users/tanutpayatsuporn/opt/anaconda3/lib/python3.9/site-packages (from pytz-deprecation-shim->tzlocal->dateparser) (2022.5)\r\n"
     ]
    }
   ],
   "source": [
    "!pip install dateparser"
   ]
  },
  {
   "cell_type": "code",
   "execution_count": 2,
   "metadata": {},
   "outputs": [],
   "source": [
    "import dateparser"
   ]
  },
  {
   "cell_type": "markdown",
   "metadata": {},
   "source": [
    "To convert from thai text date string, we will use the parse method.  Note that the parse method assumes the BC year, not BE.  Thus, we will have to subtract 543 from the year.  In addition, weekday() returns day of week with 0=Monday, ..., 6=Sunday."
   ]
  },
  {
   "cell_type": "code",
   "execution_count": 3,
   "metadata": {},
   "outputs": [
    {
     "name": "stdout",
     "output_type": "stream",
     "text": [
      "2563-01-17 00:00:00\n",
      "0\n",
      "2020-01-17 00:00:00\n",
      "4\n"
     ]
    }
   ],
   "source": [
    "dt = dateparser.parse('วันศุกร์ที่ 17 มกราคม 2563')\n",
    "\n",
    "# this will print out weekday == 0 (Monday)\n",
    "print(dt)\n",
    "print(dt.weekday())\n",
    "\n",
    "# this will print out weekday == 4 (Friday)\n",
    "dt = dt.replace(year=dt.year-543)\n",
    "print(dt)\n",
    "print(dt.weekday())"
   ]
  },
  {
   "cell_type": "code",
   "execution_count": 4,
   "metadata": {},
   "outputs": [
    {
     "name": "stdout",
     "output_type": "stream",
     "text": [
      "2021-09-21 00:00:00\n",
      "1\n"
     ]
    }
   ],
   "source": [
    "dt = dateparser.parse('วันเสาร์ที่ 21 กันยายน 2564')\n",
    "dt = dt.replace(year=dt.year-543)\n",
    "print(dt)\n",
    "print(dt.weekday())"
   ]
  },
  {
   "cell_type": "code",
   "execution_count": 5,
   "metadata": {},
   "outputs": [],
   "source": [
    "import requests\n",
    "import re\n",
    "from bs4 import BeautifulSoup"
   ]
  },
  {
   "cell_type": "code",
   "execution_count": 6,
   "metadata": {},
   "outputs": [],
   "source": [
    "onepra2563 = requests.get('https://www.myhora.com/ปฏิทิน/วันพระ-พ.ศ.2563.aspx')\n",
    "onepra2564 = requests.get('https://www.myhora.com/ปฏิทิน/วันพระ-พ.ศ.2564.aspx')\n",
    "onepra2565 = requests.get('https://www.myhora.com/ปฏิทิน/วันพระ-พ.ศ.2565.aspx')"
   ]
  },
  {
   "cell_type": "code",
   "execution_count": 7,
   "metadata": {},
   "outputs": [
    {
     "name": "stdout",
     "output_type": "stream",
     "text": [
      "56434\n",
      "57492\n",
      "56102\n"
     ]
    }
   ],
   "source": [
    "print(len(onepra2563.text))\n",
    "print(len(onepra2564.text))\n",
    "print(len(onepra2565.text))"
   ]
  },
  {
   "cell_type": "markdown",
   "metadata": {},
   "source": [
    "Count the distribution of number of week days that are “วันพระ” for all three years and answer the following questions:"
   ]
  },
  {
   "cell_type": "markdown",
   "metadata": {},
   "source": [
    "## How many วันพระ in total (of 3 years)?"
   ]
  },
  {
   "cell_type": "code",
   "execution_count": 9,
   "metadata": {},
   "outputs": [],
   "source": [
    "soup2563 = BeautifulSoup(onepra2563.text, 'lxml')\n",
    "soup2564 = BeautifulSoup(onepra2564.text, 'lxml')\n",
    "soup2565 = BeautifulSoup(onepra2565.text, 'lxml')"
   ]
  },
  {
   "cell_type": "code",
   "execution_count": 10,
   "metadata": {},
   "outputs": [],
   "source": [
    "date = list()\n",
    "days = list()\n",
    "i = 0\n",
    "for day in soup2563.find_all('div', {'class': 'bud-day-col'}):\n",
    "    if i % 3 == 0:\n",
    "        dt = dateparser.parse(day.get_text())\n",
    "        dt = dt.replace(year=dt.year-543)\n",
    "        date.append(day.get_text())\n",
    "        days.append(dt.weekday())\n",
    "    i = i + 1\n",
    "j = 0\n",
    "for day in soup2564.find_all('div', {'class': 'bud-day-col'}):\n",
    "    if j % 3 == 0:\n",
    "        dt = dateparser.parse(day.get_text())\n",
    "        dt = dt.replace(year=dt.year-543)\n",
    "        date.append(day.get_text())\n",
    "        days.append(dt.weekday())\n",
    "    j = j + 1\n",
    "k = 0\n",
    "for day in soup2565.find_all('div', {'class': 'bud-day-col'}):\n",
    "    if k % 3 == 0:\n",
    "        dt = dateparser.parse(day.get_text())\n",
    "        dt = dt.replace(year=dt.year-543)\n",
    "        date.append(day.get_text())\n",
    "        days.append(dt.weekday())\n",
    "    k = k + 1"
   ]
  },
  {
   "cell_type": "code",
   "execution_count": 11,
   "metadata": {},
   "outputs": [],
   "source": [
    "import pandas as pd\n",
    "df = pd.DataFrame(list(zip(date, days)),\n",
    "               columns =['date', 'day'])"
   ]
  },
  {
   "cell_type": "code",
   "execution_count": 12,
   "metadata": {},
   "outputs": [
    {
     "data": {
      "text/html": [
       "<div>\n",
       "<style scoped>\n",
       "    .dataframe tbody tr th:only-of-type {\n",
       "        vertical-align: middle;\n",
       "    }\n",
       "\n",
       "    .dataframe tbody tr th {\n",
       "        vertical-align: top;\n",
       "    }\n",
       "\n",
       "    .dataframe thead th {\n",
       "        text-align: right;\n",
       "    }\n",
       "</style>\n",
       "<table border=\"1\" class=\"dataframe\">\n",
       "  <thead>\n",
       "    <tr style=\"text-align: right;\">\n",
       "      <th></th>\n",
       "      <th>date</th>\n",
       "      <th>day</th>\n",
       "    </tr>\n",
       "  </thead>\n",
       "  <tbody>\n",
       "    <tr>\n",
       "      <th>0</th>\n",
       "      <td>วันพฤหัสบดีที่ 2 มกราคม 2563</td>\n",
       "      <td>3</td>\n",
       "    </tr>\n",
       "    <tr>\n",
       "      <th>1</th>\n",
       "      <td>วันพฤหัสบดีที่ 9 มกราคม 2563</td>\n",
       "      <td>3</td>\n",
       "    </tr>\n",
       "    <tr>\n",
       "      <th>2</th>\n",
       "      <td>วันศุกร์ที่ 17 มกราคม 2563</td>\n",
       "      <td>4</td>\n",
       "    </tr>\n",
       "    <tr>\n",
       "      <th>3</th>\n",
       "      <td>วันศุกร์ที่ 24 มกราคม 2563</td>\n",
       "      <td>4</td>\n",
       "    </tr>\n",
       "    <tr>\n",
       "      <th>4</th>\n",
       "      <td>วันเสาร์ที่ 1 กุมภาพันธ์ 2563</td>\n",
       "      <td>5</td>\n",
       "    </tr>\n",
       "    <tr>\n",
       "      <th>...</th>\n",
       "      <td>...</td>\n",
       "      <td>...</td>\n",
       "    </tr>\n",
       "    <tr>\n",
       "      <th>147</th>\n",
       "      <td>วันพฤหัสบดีที่ 1 ธันวาคม 2565</td>\n",
       "      <td>3</td>\n",
       "    </tr>\n",
       "    <tr>\n",
       "      <th>148</th>\n",
       "      <td>วันพฤหัสบดีที่ 8 ธันวาคม 2565</td>\n",
       "      <td>3</td>\n",
       "    </tr>\n",
       "    <tr>\n",
       "      <th>149</th>\n",
       "      <td>วันศุกร์ที่ 16 ธันวาคม 2565</td>\n",
       "      <td>4</td>\n",
       "    </tr>\n",
       "    <tr>\n",
       "      <th>150</th>\n",
       "      <td>วันพฤหัสบดีที่ 22 ธันวาคม 2565</td>\n",
       "      <td>3</td>\n",
       "    </tr>\n",
       "    <tr>\n",
       "      <th>151</th>\n",
       "      <td>วันศุกร์ที่ 30 ธันวาคม 2565</td>\n",
       "      <td>4</td>\n",
       "    </tr>\n",
       "  </tbody>\n",
       "</table>\n",
       "<p>152 rows × 2 columns</p>\n",
       "</div>"
      ],
      "text/plain": [
       "                               date  day\n",
       "0      วันพฤหัสบดีที่ 2 มกราคม 2563    3\n",
       "1      วันพฤหัสบดีที่ 9 มกราคม 2563    3\n",
       "2        วันศุกร์ที่ 17 มกราคม 2563    4\n",
       "3        วันศุกร์ที่ 24 มกราคม 2563    4\n",
       "4     วันเสาร์ที่ 1 กุมภาพันธ์ 2563    5\n",
       "..                              ...  ...\n",
       "147   วันพฤหัสบดีที่ 1 ธันวาคม 2565    3\n",
       "148   วันพฤหัสบดีที่ 8 ธันวาคม 2565    3\n",
       "149     วันศุกร์ที่ 16 ธันวาคม 2565    4\n",
       "150  วันพฤหัสบดีที่ 22 ธันวาคม 2565    3\n",
       "151     วันศุกร์ที่ 30 ธันวาคม 2565    4\n",
       "\n",
       "[152 rows x 2 columns]"
      ]
     },
     "execution_count": 12,
     "metadata": {},
     "output_type": "execute_result"
    }
   ],
   "source": [
    "df"
   ]
  },
  {
   "cell_type": "markdown",
   "metadata": {},
   "source": [
    "## How many days in total (of 3 years) that วันพระ is Sunday?"
   ]
  },
  {
   "cell_type": "code",
   "execution_count": 13,
   "metadata": {},
   "outputs": [
    {
     "data": {
      "text/html": [
       "<div>\n",
       "<style scoped>\n",
       "    .dataframe tbody tr th:only-of-type {\n",
       "        vertical-align: middle;\n",
       "    }\n",
       "\n",
       "    .dataframe tbody tr th {\n",
       "        vertical-align: top;\n",
       "    }\n",
       "\n",
       "    .dataframe thead th {\n",
       "        text-align: right;\n",
       "    }\n",
       "</style>\n",
       "<table border=\"1\" class=\"dataframe\">\n",
       "  <thead>\n",
       "    <tr style=\"text-align: right;\">\n",
       "      <th></th>\n",
       "      <th>date</th>\n",
       "      <th>day</th>\n",
       "    </tr>\n",
       "  </thead>\n",
       "  <tbody>\n",
       "    <tr>\n",
       "      <th>6</th>\n",
       "      <td>วันอาทิตย์ที่ 16 กุมภาพันธ์ 2563</td>\n",
       "      <td>6</td>\n",
       "    </tr>\n",
       "    <tr>\n",
       "      <th>8</th>\n",
       "      <td>วันอาทิตย์ที่ 1 มีนาคม 2563</td>\n",
       "      <td>6</td>\n",
       "    </tr>\n",
       "    <tr>\n",
       "      <th>9</th>\n",
       "      <td>วันอาทิตย์ที่ 8 มีนาคม 2563</td>\n",
       "      <td>6</td>\n",
       "    </tr>\n",
       "    <tr>\n",
       "      <th>24</th>\n",
       "      <td>วันอาทิตย์ที่ 28 มิถุนายน 2563</td>\n",
       "      <td>6</td>\n",
       "    </tr>\n",
       "    <tr>\n",
       "      <th>25</th>\n",
       "      <td>วันอาทิตย์ที่ 5 กรกฎาคม 2563</td>\n",
       "      <td>6</td>\n",
       "    </tr>\n",
       "    <tr>\n",
       "      <th>43</th>\n",
       "      <td>วันอาทิตย์ที่ 8 พฤศจิกายน 2563</td>\n",
       "      <td>6</td>\n",
       "    </tr>\n",
       "    <tr>\n",
       "      <th>44</th>\n",
       "      <td>วันอาทิตย์ที่ 15 พฤศจิกายน 2563</td>\n",
       "      <td>6</td>\n",
       "    </tr>\n",
       "    <tr>\n",
       "      <th>61</th>\n",
       "      <td>วันอาทิตย์ที่ 21 มีนาคม 2564</td>\n",
       "      <td>6</td>\n",
       "    </tr>\n",
       "    <tr>\n",
       "      <th>62</th>\n",
       "      <td>วันอาทิตย์ที่ 28 มีนาคม 2564</td>\n",
       "      <td>6</td>\n",
       "    </tr>\n",
       "    <tr>\n",
       "      <th>64</th>\n",
       "      <td>วันอาทิตย์ที่ 11 เมษายน 2564</td>\n",
       "      <td>6</td>\n",
       "    </tr>\n",
       "    <tr>\n",
       "      <th>79</th>\n",
       "      <td>วันอาทิตย์ที่ 25 กรกฎาคม 2564</td>\n",
       "      <td>6</td>\n",
       "    </tr>\n",
       "    <tr>\n",
       "      <th>80</th>\n",
       "      <td>วันอาทิตย์ที่ 1 สิงหาคม 2564</td>\n",
       "      <td>6</td>\n",
       "    </tr>\n",
       "    <tr>\n",
       "      <th>81</th>\n",
       "      <td>วันอาทิตย์ที่ 8 สิงหาคม 2564</td>\n",
       "      <td>6</td>\n",
       "    </tr>\n",
       "    <tr>\n",
       "      <th>98</th>\n",
       "      <td>วันอาทิตย์ที่ 12 ธันวาคม 2564</td>\n",
       "      <td>6</td>\n",
       "    </tr>\n",
       "    <tr>\n",
       "      <th>99</th>\n",
       "      <td>วันอาทิตย์ที่ 19 ธันวาคม 2564</td>\n",
       "      <td>6</td>\n",
       "    </tr>\n",
       "    <tr>\n",
       "      <th>101</th>\n",
       "      <td>วันอาทิตย์ที่ 2 มกราคม 2565</td>\n",
       "      <td>6</td>\n",
       "    </tr>\n",
       "    <tr>\n",
       "      <th>116</th>\n",
       "      <td>วันอาทิตย์ที่ 24 เมษายน 2565</td>\n",
       "      <td>6</td>\n",
       "    </tr>\n",
       "    <tr>\n",
       "      <th>118</th>\n",
       "      <td>วันอาทิตย์ที่ 8 พฤษภาคม 2565</td>\n",
       "      <td>6</td>\n",
       "    </tr>\n",
       "    <tr>\n",
       "      <th>119</th>\n",
       "      <td>วันอาทิตย์ที่ 15 พฤษภาคม 2565</td>\n",
       "      <td>6</td>\n",
       "    </tr>\n",
       "    <tr>\n",
       "      <th>137</th>\n",
       "      <td>วันอาทิตย์ที่ 18 กันยายน 2565</td>\n",
       "      <td>6</td>\n",
       "    </tr>\n",
       "    <tr>\n",
       "      <th>138</th>\n",
       "      <td>วันอาทิตย์ที่ 25 กันยายน 2565</td>\n",
       "      <td>6</td>\n",
       "    </tr>\n",
       "  </tbody>\n",
       "</table>\n",
       "</div>"
      ],
      "text/plain": [
       "                                 date  day\n",
       "6    วันอาทิตย์ที่ 16 กุมภาพันธ์ 2563    6\n",
       "8         วันอาทิตย์ที่ 1 มีนาคม 2563    6\n",
       "9         วันอาทิตย์ที่ 8 มีนาคม 2563    6\n",
       "24     วันอาทิตย์ที่ 28 มิถุนายน 2563    6\n",
       "25       วันอาทิตย์ที่ 5 กรกฎาคม 2563    6\n",
       "43     วันอาทิตย์ที่ 8 พฤศจิกายน 2563    6\n",
       "44    วันอาทิตย์ที่ 15 พฤศจิกายน 2563    6\n",
       "61       วันอาทิตย์ที่ 21 มีนาคม 2564    6\n",
       "62       วันอาทิตย์ที่ 28 มีนาคม 2564    6\n",
       "64       วันอาทิตย์ที่ 11 เมษายน 2564    6\n",
       "79      วันอาทิตย์ที่ 25 กรกฎาคม 2564    6\n",
       "80       วันอาทิตย์ที่ 1 สิงหาคม 2564    6\n",
       "81       วันอาทิตย์ที่ 8 สิงหาคม 2564    6\n",
       "98      วันอาทิตย์ที่ 12 ธันวาคม 2564    6\n",
       "99      วันอาทิตย์ที่ 19 ธันวาคม 2564    6\n",
       "101       วันอาทิตย์ที่ 2 มกราคม 2565    6\n",
       "116      วันอาทิตย์ที่ 24 เมษายน 2565    6\n",
       "118      วันอาทิตย์ที่ 8 พฤษภาคม 2565    6\n",
       "119     วันอาทิตย์ที่ 15 พฤษภาคม 2565    6\n",
       "137     วันอาทิตย์ที่ 18 กันยายน 2565    6\n",
       "138     วันอาทิตย์ที่ 25 กันยายน 2565    6"
      ]
     },
     "execution_count": 13,
     "metadata": {},
     "output_type": "execute_result"
    }
   ],
   "source": [
    "df[df['day']==6]"
   ]
  },
  {
   "cell_type": "code",
   "execution_count": 14,
   "metadata": {},
   "outputs": [
    {
     "data": {
      "text/plain": [
       "(21, 2)"
      ]
     },
     "execution_count": 14,
     "metadata": {},
     "output_type": "execute_result"
    }
   ],
   "source": [
    "df[df['day']==6].shape"
   ]
  },
  {
   "cell_type": "markdown",
   "metadata": {},
   "source": [
    "## Which day of the week that has the minimum number of วันพระ?"
   ]
  },
  {
   "cell_type": "code",
   "execution_count": 15,
   "metadata": {},
   "outputs": [
    {
     "data": {
      "text/plain": [
       "5"
      ]
     },
     "execution_count": 15,
     "metadata": {},
     "output_type": "execute_result"
    }
   ],
   "source": [
    "df.day.value_counts().idxmin()"
   ]
  },
  {
   "cell_type": "markdown",
   "metadata": {},
   "source": [
    "## Which day of the week that has the maximum number of วันพระ?"
   ]
  },
  {
   "cell_type": "code",
   "execution_count": 16,
   "metadata": {},
   "outputs": [
    {
     "data": {
      "text/plain": [
       "3"
      ]
     },
     "execution_count": 16,
     "metadata": {},
     "output_type": "execute_result"
    }
   ],
   "source": [
    "df.day.value_counts().idxmax()"
   ]
  },
  {
   "cell_type": "code",
   "execution_count": null,
   "metadata": {},
   "outputs": [],
   "source": []
  }
 ],
 "metadata": {
  "kernelspec": {
   "display_name": "Python 3 (ipykernel)",
   "language": "python",
   "name": "python3"
  },
  "language_info": {
   "codemirror_mode": {
    "name": "ipython",
    "version": 3
   },
   "file_extension": ".py",
   "mimetype": "text/x-python",
   "name": "python",
   "nbconvert_exporter": "python",
   "pygments_lexer": "ipython3",
   "version": "3.9.12"
  },
  "toc": {
   "base_numbering": 1,
   "nav_menu": {},
   "number_sections": true,
   "sideBar": true,
   "skip_h1_title": false,
   "title_cell": "Table of Contents",
   "title_sidebar": "Contents",
   "toc_cell": false,
   "toc_position": {},
   "toc_section_display": true,
   "toc_window_display": false
  },
  "varInspector": {
   "cols": {
    "lenName": 16,
    "lenType": 16,
    "lenVar": 40
   },
   "kernels_config": {
    "python": {
     "delete_cmd_postfix": "",
     "delete_cmd_prefix": "del ",
     "library": "var_list.py",
     "varRefreshCmd": "print(var_dic_list())"
    },
    "r": {
     "delete_cmd_postfix": ") ",
     "delete_cmd_prefix": "rm(",
     "library": "var_list.r",
     "varRefreshCmd": "cat(var_dic_list()) "
    }
   },
   "types_to_exclude": [
    "module",
    "function",
    "builtin_function_or_method",
    "instance",
    "_Feature"
   ],
   "window_display": false
  }
 },
 "nbformat": 4,
 "nbformat_minor": 4
}
