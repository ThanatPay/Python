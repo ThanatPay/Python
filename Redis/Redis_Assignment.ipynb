{
 "cells": [
  {
   "cell_type": "markdown",
   "metadata": {},
   "source": [
    "# Redis Assignment\n",
    "In this assignment, you will access a redis server and user redis commands to find out answers.  The redis server is at 34.87.2.170.  You also have to authenticate as username 'hw' with password 'hw'.  \n",
    "\n",
    "The populated data in the redis database is similar to the example \"simple social network\" in the class.  Answer all questions in mycourseville assignment.\n",
    "\n",
    "Note that this user can only use \"read\" commands e.g. \"get\", \"lrange\", \"llen\", \"scan\", etc."
   ]
  },
  {
   "cell_type": "code",
   "execution_count": 1,
   "metadata": {},
   "outputs": [],
   "source": [
    "import redis"
   ]
  },
  {
   "cell_type": "code",
   "execution_count": 2,
   "metadata": {},
   "outputs": [
    {
     "data": {
      "text/plain": [
       "True"
      ]
     },
     "execution_count": 2,
     "metadata": {},
     "output_type": "execute_result"
    }
   ],
   "source": [
    "rd = redis.Redis(host='34.87.2.170')\n",
    "rd.auth(username='hw', password='hw')"
   ]
  },
  {
   "cell_type": "markdown",
   "metadata": {},
   "source": [
    "## What is the username of user id \"600\"?"
   ]
  },
  {
   "cell_type": "code",
   "execution_count": 3,
   "metadata": {},
   "outputs": [
    {
     "data": {
      "text/plain": [
       "'cautiousCrackers9'"
      ]
     },
     "execution_count": 3,
     "metadata": {},
     "output_type": "execute_result"
    }
   ],
   "source": [
    "id = 600\n",
    "name = rd.get('user:{}:name'.format(id)).decode('utf-8')\n",
    "name"
   ]
  },
  {
   "cell_type": "markdown",
   "metadata": {},
   "source": [
    "## What is the id of username \"excitedPie4\" ?"
   ]
  },
  {
   "cell_type": "code",
   "execution_count": 4,
   "metadata": {},
   "outputs": [
    {
     "data": {
      "text/plain": [
       "'567'"
      ]
     },
     "execution_count": 4,
     "metadata": {},
     "output_type": "execute_result"
    }
   ],
   "source": [
    "name = 'excitedPie4'\n",
    "id = rd.get('username:{}'.format(name)).decode('utf-8')\n",
    "id"
   ]
  },
  {
   "cell_type": "markdown",
   "metadata": {},
   "source": [
    "## How many users that \"excitedPie4\" follows ?"
   ]
  },
  {
   "cell_type": "code",
   "execution_count": 5,
   "metadata": {},
   "outputs": [
    {
     "data": {
      "text/plain": [
       "9"
      ]
     },
     "execution_count": 5,
     "metadata": {},
     "output_type": "execute_result"
    }
   ],
   "source": [
    "len(rd.smembers('user:{}:follows'.format(id)))"
   ]
  },
  {
   "cell_type": "markdown",
   "metadata": {},
   "source": [
    "## How many users are there in the database?"
   ]
  },
  {
   "cell_type": "code",
   "execution_count": 13,
   "metadata": {},
   "outputs": [
    {
     "name": "stdout",
     "output_type": "stream",
     "text": [
      "200\n"
     ]
    }
   ],
   "source": [
    "cursor = 0\n",
    "cursor, keys = rd.scan(cursor=cursor, match='username:*')\n",
    "n_users = 0\n",
    "while cursor > 0:\n",
    "    for x in keys:\n",
    "        n_users = n_users + 1\n",
    "        \n",
    "    cursor, keys = rd.scan(cursor=cursor, match='username:*')\n",
    "print(n_users)"
   ]
  },
  {
   "cell_type": "markdown",
   "metadata": {},
   "source": [
    "## What is the average number of follows per user?"
   ]
  },
  {
   "cell_type": "code",
   "execution_count": 14,
   "metadata": {},
   "outputs": [
    {
     "name": "stdout",
     "output_type": "stream",
     "text": [
      "8.605\n"
     ]
    }
   ],
   "source": [
    "cursor = 0\n",
    "cursor, keys = rd.scan(cursor=cursor, match='username:*')\n",
    "sum_follows = 0\n",
    "while cursor > 0:\n",
    "    for x in keys:\n",
    "        key = x.decode('utf-8')\n",
    "        value = rd.get(key).decode('utf-8')\n",
    "        sum_follows = sum_follows + len(rd.smembers('user:{}:follows'.format(value)))\n",
    "    cursor, keys = rd.scan(cursor=cursor, match='username:*')\n",
    "print(sum_follows/n_users)"
   ]
  },
  {
   "cell_type": "markdown",
   "metadata": {},
   "source": [
    "## How many users follows between 5-10 users?"
   ]
  },
  {
   "cell_type": "code",
   "execution_count": 15,
   "metadata": {},
   "outputs": [
    {
     "name": "stdout",
     "output_type": "stream",
     "text": [
      "60\n"
     ]
    }
   ],
   "source": [
    "cursor = 0\n",
    "cursor, keys = rd.scan(cursor=cursor, match='username:*')\n",
    "n_users_b5t10 = 0\n",
    "while cursor > 0:\n",
    "    for x in keys:\n",
    "        key = x.decode('utf-8')\n",
    "        value = rd.get(key).decode('utf-8')\n",
    "        if 5 <= len(rd.smembers('user:{}:follows'.format(value))) <= 10:\n",
    "            n_users_b5t10 = n_users_b5t10 + 1\n",
    "    cursor, keys = rd.scan(cursor=cursor, match='username:*')\n",
    "print(n_users_b5t10)"
   ]
  },
  {
   "cell_type": "markdown",
   "metadata": {},
   "source": [
    "## Which account has the most followers?"
   ]
  },
  {
   "cell_type": "code",
   "execution_count": 22,
   "metadata": {},
   "outputs": [
    {
     "name": "stdout",
     "output_type": "stream",
     "text": [
      "['630']\n"
     ]
    }
   ],
   "source": [
    "cursor = 0\n",
    "cursor, keys = rd.scan(cursor=cursor, match='username:*')\n",
    "max_follows = 0\n",
    "id_max_follows = []\n",
    "while cursor > 0:\n",
    "    for x in keys:\n",
    "        key = x.decode('utf-8')\n",
    "        value = rd.get(key).decode('utf-8')\n",
    "        if len(rd.smembers('user:{}:followed_by'.format(value))) == max_follows:\n",
    "            id_max_follows.append(value)\n",
    "        if len(rd.smembers('user:{}:followed_by'.format(value))) > max_follows:\n",
    "            max_follows = len(rd.smembers('user:{}:followed_by'.format(value)))\n",
    "            id_max_follows = [value]\n",
    "    cursor, keys = rd.scan(cursor=cursor, match='username:*')\n",
    "print(id_max_follows)"
   ]
  }
 ],
 "metadata": {
  "kernelspec": {
   "display_name": "Python 3 (ipykernel)",
   "language": "python",
   "name": "python3"
  },
  "language_info": {
   "codemirror_mode": {
    "name": "ipython",
    "version": 3
   },
   "file_extension": ".py",
   "mimetype": "text/x-python",
   "name": "python",
   "nbconvert_exporter": "python",
   "pygments_lexer": "ipython3",
   "version": "3.9.12"
  },
  "toc": {
   "base_numbering": 1,
   "nav_menu": {},
   "number_sections": true,
   "sideBar": true,
   "skip_h1_title": false,
   "title_cell": "Table of Contents",
   "title_sidebar": "Contents",
   "toc_cell": false,
   "toc_position": {},
   "toc_section_display": true,
   "toc_window_display": false
  },
  "varInspector": {
   "cols": {
    "lenName": 16,
    "lenType": 16,
    "lenVar": 40
   },
   "kernels_config": {
    "python": {
     "delete_cmd_postfix": "",
     "delete_cmd_prefix": "del ",
     "library": "var_list.py",
     "varRefreshCmd": "print(var_dic_list())"
    },
    "r": {
     "delete_cmd_postfix": ") ",
     "delete_cmd_prefix": "rm(",
     "library": "var_list.r",
     "varRefreshCmd": "cat(var_dic_list()) "
    }
   },
   "types_to_exclude": [
    "module",
    "function",
    "builtin_function_or_method",
    "instance",
    "_Feature"
   ],
   "window_display": false
  }
 },
 "nbformat": 4,
 "nbformat_minor": 4
}
